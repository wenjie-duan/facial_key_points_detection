{
 "cells": [
  {
   "cell_type": "markdown",
   "metadata": {
    "toc": true
   },
   "source": [
    "<h1>Table of Contents<span class=\"tocSkip\"></span></h1>\n",
    "<div class=\"toc\"><ul class=\"toc-item\"><li><span><a href=\"#LOAD-DATA\" data-toc-modified-id=\"LOAD-DATA-1\"><span class=\"toc-item-num\">1&nbsp;&nbsp;</span>LOAD DATA</a></span></li><li><span><a href=\"#Test-data\" data-toc-modified-id=\"Test-data-2\"><span class=\"toc-item-num\">2&nbsp;&nbsp;</span>Test data</a></span></li><li><span><a href=\"#Data-Augmentations\" data-toc-modified-id=\"Data-Augmentations-3\"><span class=\"toc-item-num\">3&nbsp;&nbsp;</span>Data Augmentations</a></span></li><li><span><a href=\"#Datasets-and-dataloaders\" data-toc-modified-id=\"Datasets-and-dataloaders-4\"><span class=\"toc-item-num\">4&nbsp;&nbsp;</span>Datasets and dataloaders</a></span></li><li><span><a href=\"#Train-valid-split\" data-toc-modified-id=\"Train-valid-split-5\"><span class=\"toc-item-num\">5&nbsp;&nbsp;</span>Train-valid split</a></span></li><li><span><a href=\"#Model\" data-toc-modified-id=\"Model-6\"><span class=\"toc-item-num\">6&nbsp;&nbsp;</span>Model</a></span></li><li><span><a href=\"#Training-and-predict-functions\" data-toc-modified-id=\"Training-and-predict-functions-7\"><span class=\"toc-item-num\">7&nbsp;&nbsp;</span>Training and predict functions</a></span></li><li><span><a href=\"#Predictions\" data-toc-modified-id=\"Predictions-8\"><span class=\"toc-item-num\">8&nbsp;&nbsp;</span>Predictions</a></span></li></ul></div>"
   ]
  },
  {
   "cell_type": "markdown",
   "metadata": {},
   "source": [
    "# kaggle keypoints detection\n",
    "- In this Notebook, we tried to add a mask vector in the dataset to handle the missing keypoints\n",
    "- We tried albumentations to do data augmentations"
   ]
  },
  {
   "cell_type": "code",
   "execution_count": 1,
   "metadata": {},
   "outputs": [],
   "source": [
    "import numpy as np\n",
    "import pandas as pd\n",
    "from pathlib import Path\n",
    "import matplotlib.pyplot as plt\n",
    "%matplotlib inline\n",
    "from math import sin, cos, pi\n",
    "import cv2\n",
    "import torch\n",
    "from torch.utils.data import Dataset, DataLoader\n",
    "from torch.utils.data.sampler import SubsetRandomSampler\n",
    "from torchvision import transforms, utils, models\n",
    "from torchvision.models.resnet import BasicBlock\n",
    "from torch import nn, optim\n",
    "import torch.nn.functional as F\n",
    "\n",
    "import warnings\n",
    "warnings.filterwarnings('ignore')\n",
    "\n",
    "IMG_SIZE = 96"
   ]
  },
  {
   "cell_type": "code",
   "execution_count": 2,
   "metadata": {},
   "outputs": [],
   "source": [
    "import os\n",
    "os.environ[\"CUDA_VISIBLE_DEVICES\"]=\"0\""
   ]
  },
  {
   "cell_type": "markdown",
   "metadata": {},
   "source": [
    "## LOAD DATA"
   ]
  },
  {
   "cell_type": "code",
   "execution_count": 3,
   "metadata": {},
   "outputs": [],
   "source": [
    "data_dir = Path('./data')\n",
    "train_data = pd.read_csv(data_dir / 'training.csv')"
   ]
  },
  {
   "cell_type": "markdown",
   "metadata": {},
   "source": [
    "## Test data"
   ]
  },
  {
   "cell_type": "code",
   "execution_count": 107,
   "metadata": {
    "scrolled": true
   },
   "outputs": [
    {
     "name": "stdout",
     "output_type": "stream",
     "text": [
      "<class 'pandas.core.frame.DataFrame'>\n",
      "RangeIndex: 1783 entries, 0 to 1782\n",
      "Data columns (total 2 columns):\n",
      " #   Column   Non-Null Count  Dtype \n",
      "---  ------   --------------  ----- \n",
      " 0   ImageId  1783 non-null   int64 \n",
      " 1   Image    1783 non-null   object\n",
      "dtypes: int64(1), object(1)\n",
      "memory usage: 28.0+ KB\n"
     ]
    }
   ],
   "source": [
    "test_data = pd.read_csv('./data/test.csv')\n",
    "test_data.info()"
   ]
  },
  {
   "cell_type": "code",
   "execution_count": 4,
   "metadata": {},
   "outputs": [],
   "source": [
    "def show_keypoints(image, keypoints):\n",
    "    '''\n",
    "    Show image with keypoints\n",
    "    Args:\n",
    "        image (array-like or PIL image): The image data. (M, N)\n",
    "        keypoints (array-like): The keypoits data. (N, 2)\n",
    "    '''\n",
    "      \n",
    "    plt.imshow(image, cmap='gray')\n",
    "    if len(keypoints):\n",
    "        plt.scatter(keypoints[:, 0], keypoints[:, 1], s=24, marker ='.', c='r')\n",
    "\n",
    "def show_images(df, indxs, ncols=5, figsize=(15,10), with_keypoints=True):\n",
    "    '''\n",
    "    Show images with keypoints in grids\n",
    "    Args:\n",
    "        df (DataFrame): data (M x N)\n",
    "        idxs (iterators): list, Range, Indexes\n",
    "        ncols (integer): number of columns (images by rows)\n",
    "        figsize (float, float): width, height in inches\n",
    "        with_keypoints (boolean): True if show image with keypoints\n",
    "    '''\n",
    "    plt.figure(figsize=figsize)\n",
    "    nrows = len(indxs) // ncols + 1\n",
    "    for i, idx in enumerate(indxs):\n",
    "        image = np.fromstring(df.loc[idx, 'Image'], sep=' ').astype(np.float32).reshape(-1, IMG_SIZE)\n",
    "        if with_keypoints:\n",
    "            keypoints = df.loc[idx].drop('Image').values.astype(np.float32).reshape(-1, 2)\n",
    "        else:\n",
    "            keypoints = []\n",
    "        plt.subplot(nrows, ncols, i + 1)\n",
    "        plt.title(f'Sample #{idx}')\n",
    "        plt.axis('off')\n",
    "        plt.tight_layout()\n",
    "        show_keypoints(image, keypoints)\n",
    "    plt.show()"
   ]
  },
  {
   "cell_type": "markdown",
   "metadata": {},
   "source": [
    "## Data Augmentations"
   ]
  },
  {
   "cell_type": "markdown",
   "metadata": {},
   "source": [
    "! pip install -U git+https://github.com/albumentations-team/albumentations"
   ]
  },
  {
   "cell_type": "code",
   "execution_count": 6,
   "metadata": {},
   "outputs": [],
   "source": [
    "import albumentations as albu\n",
    "from urllib.request import urlopen\n",
    "from matplotlib import pyplot as plt\n",
    "\n",
    "\n",
    "from albumentations.pytorch import ToTensor,ToTensorV2"
   ]
  },
  {
   "cell_type": "code",
   "execution_count": 211,
   "metadata": {},
   "outputs": [],
   "source": [
    "def plot_sample(image, keypoint, axis, title=None):\n",
    "    axis.imshow(image)\n",
    "    axis.scatter(keypoint[0::2], keypoint[1::2], marker='.', s=20, color='red')\n",
    "    axis.set_title(title)\n",
    "\n",
    "def to_numpy(image):\n",
    "    im_np = np.array([item for item in zip(image[0].flatten(),image[1].flatten(),image[2].flatten())])\n",
    "    im_np = im_np.reshape(96,96,3).astype('uint8')\n",
    "    return im_np\n",
    "\n",
    "def create_transformer(transformations):\n",
    "    return albu.Compose(transformations, p=1, \n",
    "                        keypoint_params=albu.KeypointParams(format='xy'))"
   ]
  },
  {
   "cell_type": "markdown",
   "metadata": {},
   "source": [
    "## Datasets and dataloaders"
   ]
  },
  {
   "cell_type": "code",
   "execution_count": 499,
   "metadata": {},
   "outputs": [],
   "source": [
    "class KeypointsDataset(Dataset):\n",
    "    '''Keypoints Dataset'''\n",
    "    \n",
    "    def __init__(self, dataframe, train=True, transform=None):\n",
    "        '''\n",
    "        Args:\n",
    "            dataframe (DataFrame): data in pandas dataframe format.\n",
    "            train (Boolean) : True for train data with keypoints, default is True\n",
    "            transform (callable, optional): Optional transform to be applied on \n",
    "            sample\n",
    "        '''\n",
    "        self.dataframe = dataframe\n",
    "        self.train = train\n",
    "        self.transform = transform\n",
    "        \n",
    "    def __len__(self):\n",
    "        return len(self.dataframe)\n",
    "    \n",
    "    def __getitem__(self, idx):\n",
    "\n",
    "        image = np.fromstring(self.dataframe.iloc[idx, -1], sep=' ')\\\n",
    "                .astype(np.float32).reshape(-1, IMG_SIZE)\n",
    "        image = cv2.cvtColor(image, cv2.COLOR_BGR2RGB)\n",
    "        image = image/255.\n",
    "        \n",
    "\n",
    "        if self.train:\n",
    "            keypoints = self.dataframe.iloc[idx, :-1].values.astype(np.float32)\n",
    "            mask = (~np.isnan(keypoints)).astype(float)\n",
    "            sample = {'image': image, 'keypoints': keypoints, 'mask': mask}\n",
    "            \n",
    "        else:\n",
    "            sample = {'image': image}\n",
    "\n",
    "\n",
    "        \n",
    "        \n",
    "        \n",
    "        if self.transform:\n",
    "            if self.train:\n",
    "                keypoints_nonan = keypoints[~np.isnan(keypoints)]\n",
    "                transformed = self.transform(image=image, keypoints=keypoints_nonan.reshape(-1,2))\n",
    "                im = transformed['image']\n",
    "                points = np.array(transformed['keypoints']).flatten()\n",
    "                if len(points)==len(keypoints_nonan) and not((points<0).sum() or (points>IMG_SIZE).sum()):\n",
    "\n",
    "                    sample['image'] = im\n",
    "                    keypoints[np.argwhere(~np.isnan(keypoints)).flatten()] = np.array(points)\n",
    "                    keypoints[np.argwhere(np.isnan(keypoints)).flatten()] = 0\n",
    "                    sample['keypoints'] = torch.tensor(keypoints).float()\n",
    "                else:\n",
    "                    totensor = create_transformer([ToTensor(normalize={\"mean\":[0.485, 0.456, 0.406],\n",
    "                                                                       \"std\":[0.229, 0.224, 0.225]})])\n",
    "                    sample['image'] = totensor(image=image)['image']\n",
    "                    keypoints[np.argwhere(np.isnan(keypoints)).flatten()] = 0\n",
    "                    sample['keypoints'] = torch.tensor(keypoints).float()\n",
    "            else:\n",
    "                transformed = self.transform(image=image)\n",
    "                im = transformed['image']\n",
    "                sample['image'] = im\n",
    "        return sample"
   ]
  },
  {
   "cell_type": "code",
   "execution_count": 433,
   "metadata": {},
   "outputs": [],
   "source": [
    "# propare trainset\n",
    "batch_size=64\n",
    "tsfm = create_transformer([albu.Rotate(limit=30,p=0.75),\n",
    "                           albu.RandomBrightnessContrast(p=0.75),\n",
    "                           albu.RandomContrast(p=0.75),\n",
    "                           albu.GaussNoise(p=0.75),\n",
    "                           \n",
    "                           #ToTensor(normalize={\"mean\":[0.485, 0.456, 0.406],\"std\":[0.229, 0.224, 0.225]})\n",
    "                          ])\n",
    "trainset = KeypointsDataset(df_train, transform=tsfm)\n"
   ]
  },
  {
   "cell_type": "markdown",
   "metadata": {},
   "source": [
    " ## Train-valid split"
   ]
  },
  {
   "cell_type": "code",
   "execution_count": 438,
   "metadata": {},
   "outputs": [],
   "source": [
    "# train-valid split\n",
    "indices = np.array(train_data.index)\n",
    "\n",
    "np.random.shuffle(indices)\n",
    "\n",
    "train_len = int(len(indices)*0.8)\n",
    "\n",
    "train_idx = indices[:train_len]\n",
    "valid_idx = indices[train_len:]\n",
    "\n",
    "df_train = train_data.iloc[train_idx]\n",
    "df_val = train_data.iloc[valid_idx]"
   ]
  },
  {
   "cell_type": "code",
   "execution_count": 439,
   "metadata": {},
   "outputs": [],
   "source": [
    "# propare trainset\n",
    "batch_size=64\n",
    "aug = create_transformer([albu.Rotate(limit=30,p=0.75),\n",
    "                           albu.RandomBrightnessContrast(p=0.75),\n",
    "                           \n",
    "                           ToTensor(normalize={\"mean\":[0.485, 0.456, 0.406],\"std\":[0.229, 0.224, 0.225]})\n",
    "                          ])\n",
    "trainset = KeypointsDataset(df_train, transform=aug)\n"
   ]
  },
  {
   "cell_type": "code",
   "execution_count": 440,
   "metadata": {},
   "outputs": [],
   "source": [
    "# propare validset\n",
    "batch_size=64\n",
    "tsfm = create_transformer([ToTensor(normalize={\"mean\":[0.485, 0.456, 0.406],\"std\":[0.229, 0.224, 0.225]})\n",
    "                          ])\n",
    "validset = KeypointsDataset(df_val, transform=tsfm)\n"
   ]
  },
  {
   "cell_type": "code",
   "execution_count": 500,
   "metadata": {},
   "outputs": [],
   "source": [
    "# propare testset\n",
    "batch_size=64\n",
    "tsfm = create_transformer([ToTensor(normalize={\"mean\":[0.485, 0.456, 0.406],\"std\":[0.229, 0.224, 0.225]})\n",
    "                          ])\n",
    "testset = KeypointsDataset(test_data, train=False, transform=tsfm)\n"
   ]
  },
  {
   "cell_type": "code",
   "execution_count": 501,
   "metadata": {},
   "outputs": [],
   "source": [
    "# prepare dataloader\n",
    "train_dl = DataLoader(trainset, batch_size=batch_size, shuffle=True, num_workers=4)\n",
    "valid_dl = DataLoader(validset, batch_size=batch_size, num_workers=4)\n",
    "test_dl = DataLoader(testset, batch_size=batch_size, num_workers=4)"
   ]
  },
  {
   "cell_type": "markdown",
   "metadata": {},
   "source": [
    "## Model"
   ]
  },
  {
   "cell_type": "code",
   "execution_count": 443,
   "metadata": {},
   "outputs": [],
   "source": [
    "class Net(nn.Module):\n",
    "    def __init__(self):\n",
    "        super(Net, self).__init__()\n",
    "        resnet = models.resnet34(pretrained=True)\n",
    "        layers = list(resnet.children())[:8]\n",
    "        self.features1 = nn.Sequential(*layers[:6])\n",
    "        self.features2 = nn.Sequential(*layers[6:])\n",
    "        self.classifier = nn.Sequential(nn.BatchNorm1d(4608), nn.Linear(4608, 30))\n",
    "        \n",
    "    def forward(self, x):\n",
    "        x = self.features1(x)\n",
    "        x = self.features2(x)\n",
    "        x = F.relu(x)\n",
    "        \n",
    "        x = x.view(x.shape[0], -1)\n",
    "        x = self.classifier(x)\n",
    "        \n",
    "        \n",
    "        return x"
   ]
  },
  {
   "cell_type": "code",
   "execution_count": 444,
   "metadata": {},
   "outputs": [],
   "source": [
    "device = torch.device('cuda' if torch.cuda.is_available() else 'cpu')"
   ]
  },
  {
   "cell_type": "code",
   "execution_count": 445,
   "metadata": {},
   "outputs": [],
   "source": [
    "net = Net().to(device)"
   ]
  },
  {
   "cell_type": "code",
   "execution_count": 446,
   "metadata": {},
   "outputs": [],
   "source": [
    "# prepare a toy dataloader\n",
    "train_dl = DataLoader(trainset, batch_size=2, shuffle=True, num_workers=4)\n"
   ]
  },
  {
   "cell_type": "code",
   "execution_count": 447,
   "metadata": {},
   "outputs": [],
   "source": [
    "batch = next(iter(train_dl))\n",
    "x = batch['image']\n",
    "y = batch['keypoints']\n",
    "z = batch['mask']"
   ]
  },
  {
   "cell_type": "code",
   "execution_count": 448,
   "metadata": {},
   "outputs": [],
   "source": [
    "y = y.to(device)\n",
    "z = z.to(device)\n",
    "y_hat = net(x.to(device))"
   ]
  },
  {
   "cell_type": "code",
   "execution_count": 459,
   "metadata": {},
   "outputs": [
    {
     "data": {
      "text/plain": [
       "tensor(2695.6416, device='cuda:0', grad_fn=<MseLossBackward>)"
      ]
     },
     "execution_count": 459,
     "metadata": {},
     "output_type": "execute_result"
    }
   ],
   "source": [
    "F.mse_loss(y_hat, y)"
   ]
  },
  {
   "cell_type": "code",
   "execution_count": 460,
   "metadata": {},
   "outputs": [],
   "source": [
    "# loss per observation\n",
    "loss = (z*F.mse_loss(y_hat, y, reduction=\"none\")).mean()"
   ]
  },
  {
   "cell_type": "code",
   "execution_count": 461,
   "metadata": {},
   "outputs": [
    {
     "data": {
      "text/plain": [
       "2695.6415646405762"
      ]
     },
     "execution_count": 461,
     "metadata": {},
     "output_type": "execute_result"
    }
   ],
   "source": [
    "loss.item()"
   ]
  },
  {
   "cell_type": "markdown",
   "metadata": {},
   "source": [
    "## Training and predict functions"
   ]
  },
  {
   "cell_type": "code",
   "execution_count": 462,
   "metadata": {},
   "outputs": [],
   "source": [
    "def train(train_loader, valid_loader, model, lr, \n",
    "          n_epochs=50, saved_model='model.pt'):\n",
    "    '''\n",
    "    Train the model\n",
    "    \n",
    "    Args:\n",
    "        train_loader (DataLoader): DataLoader for train Dataset\n",
    "        valid_loader (DataLoader): DataLoader for valid Dataset\n",
    "        model (nn.Module): model to be trained on\n",
    "        criterion (torch.nn): loss funtion\n",
    "        optimizer (torch.optim): optimization algorithms\n",
    "        n_epochs (int): number of epochs to train the model\n",
    "        saved_model (str): file path for saving model\n",
    "    \n",
    "    Return:\n",
    "        tuple of train_losses, valid_losses\n",
    "    '''\n",
    "    \n",
    "    optimizer = torch.optim.Adam(model.parameters(),lr=lr)\n",
    "    model.train()\n",
    "\n",
    "    # initialize tracker for minimum validation loss\n",
    "    valid_loss_min = np.Inf # set initial \"min\" to infinity\n",
    "\n",
    "    train_losses = []\n",
    "    valid_losses = []\n",
    "\n",
    "    for epoch in range(n_epochs):\n",
    "        # monitor training loss\n",
    "        train_loss = 0.0\n",
    "        valid_loss = 0.0\n",
    "\n",
    "        ###################\n",
    "        # train the model #\n",
    "        ###################\n",
    "        model.train() # prep model for training\n",
    "        for batch in train_loader:\n",
    "            # clear the gradients of all optimized variables\n",
    "            optimizer.zero_grad()\n",
    "            # forward pass: compute predicted outputs by passing inputs to the model\n",
    "            output = model(batch['image'].to(device))\n",
    "            # calculate the loss\n",
    "            \n",
    "            loss = F.mse_loss(output, batch['keypoints'].to(device), reduction=\"none\")\n",
    "            loss = batch['mask'].to(device)*loss\n",
    "            loss = loss.mean()\n",
    "            # backward pass: compute gradient of the loss with respect to model parameters\n",
    "            loss.backward()\n",
    "            # perform a single optimization step (parameter update)\n",
    "            optimizer.step()\n",
    "            # update running training loss\n",
    "            train_loss += loss.item()*batch['image'].size(0)\n",
    "\n",
    "        ######################    \n",
    "        # validate the model #\n",
    "        ######################\n",
    "        model.eval() # prep model for evaluation\n",
    "        for batch in valid_loader:\n",
    "            # forward pass: compute predicted outputs by passing inputs to the model\n",
    "            output = model(batch['image'].to(device))\n",
    "            # calculate the loss\n",
    "            loss = F.mse_loss(output, batch['keypoints'].to(device), reduction=\"none\")\n",
    "            loss = batch['mask'].to(device)*loss\n",
    "            loss = loss.mean()\n",
    "            # update running validation loss \n",
    "            valid_loss += loss.item()*batch['image'].size(0)\n",
    "\n",
    "        # print training/validation statistics \n",
    "        # calculate average Root Mean Square loss over an epoch\n",
    "        train_loss = np.sqrt(train_loss/len(train_loader.dataset))\n",
    "        valid_loss = np.sqrt(valid_loss/len(valid_loader.dataset))\n",
    "\n",
    "        train_losses.append(train_loss)\n",
    "        valid_losses.append(valid_loss)\n",
    "\n",
    "        print('Epoch: {} \\tTraining Loss: {:.6f} \\tValidation Loss: {:.6f}'\n",
    "              .format(epoch+1, train_loss, valid_loss))\n",
    "\n",
    "        # save model if validation loss has decreased\n",
    "        if valid_loss <= valid_loss_min:\n",
    "            print('Validation loss decreased ({:.6f} --> {:.6f}).  Saving model ...'\n",
    "                  .format(valid_loss_min, valid_loss))\n",
    "            torch.save(model.state_dict(), saved_model)\n",
    "            valid_loss_min = valid_loss\n",
    "            \n",
    "    return train_losses, valid_losses  \n",
    "\n",
    "    \n"
   ]
  },
  {
   "cell_type": "code",
   "execution_count": 467,
   "metadata": {},
   "outputs": [],
   "source": [
    "batch_size = 64\n",
    "train_dl = DataLoader(trainset, batch_size=batch_size, shuffle=True, num_workers=4)\n",
    "valid_dl = DataLoader(validset, batch_size=batch_size, num_workers=4)\n",
    "test_dl = DataLoader(testset, batch_size=batch_size, num_workers=4)"
   ]
  },
  {
   "cell_type": "code",
   "execution_count": 468,
   "metadata": {},
   "outputs": [],
   "source": [
    "device = torch.device('cuda' if torch.cuda.is_available() else 'cpu')\n",
    "\n",
    "model = Net().to(device)\n"
   ]
  },
  {
   "cell_type": "code",
   "execution_count": 469,
   "metadata": {},
   "outputs": [],
   "source": [
    "model_path = Path('./models_dl2020')"
   ]
  },
  {
   "cell_type": "code",
   "execution_count": 470,
   "metadata": {
    "scrolled": true
   },
   "outputs": [
    {
     "name": "stdout",
     "output_type": "stream",
     "text": [
      "Epoch: 1 \tTraining Loss: 16.574609 \tValidation Loss: 4.754867\n",
      "Validation loss decreased (inf --> 4.754867).  Saving model ...\n",
      "Epoch: 2 \tTraining Loss: 4.852050 \tValidation Loss: 6.735689\n",
      "Epoch: 3 \tTraining Loss: 5.796180 \tValidation Loss: 3.041153\n",
      "Validation loss decreased (4.754867 --> 3.041153).  Saving model ...\n",
      "Epoch: 4 \tTraining Loss: 6.810970 \tValidation Loss: 15.933210\n",
      "Epoch: 5 \tTraining Loss: 5.903169 \tValidation Loss: 2.975631\n",
      "Validation loss decreased (3.041153 --> 2.975631).  Saving model ...\n",
      "Epoch: 6 \tTraining Loss: 3.225760 \tValidation Loss: 2.619653\n",
      "Validation loss decreased (2.975631 --> 2.619653).  Saving model ...\n",
      "Epoch: 7 \tTraining Loss: 2.842548 \tValidation Loss: 3.916756\n",
      "Epoch: 8 \tTraining Loss: 2.672504 \tValidation Loss: 2.249745\n",
      "Validation loss decreased (2.619653 --> 2.249745).  Saving model ...\n",
      "Epoch: 9 \tTraining Loss: 2.587050 \tValidation Loss: 2.224124\n",
      "Validation loss decreased (2.249745 --> 2.224124).  Saving model ...\n",
      "Epoch: 10 \tTraining Loss: 2.755179 \tValidation Loss: 2.117913\n",
      "Validation loss decreased (2.224124 --> 2.117913).  Saving model ...\n",
      "Epoch: 11 \tTraining Loss: 3.182514 \tValidation Loss: 24.319995\n",
      "Epoch: 12 \tTraining Loss: 4.000824 \tValidation Loss: 4.298634\n",
      "Epoch: 13 \tTraining Loss: 3.096062 \tValidation Loss: 2.317511\n",
      "Epoch: 14 \tTraining Loss: 2.932639 \tValidation Loss: 2.374627\n",
      "Epoch: 15 \tTraining Loss: 2.802513 \tValidation Loss: 5.530469\n",
      "Epoch: 16 \tTraining Loss: 2.925767 \tValidation Loss: 2.456726\n",
      "Epoch: 17 \tTraining Loss: 3.377046 \tValidation Loss: 3.689330\n",
      "Epoch: 18 \tTraining Loss: 2.953959 \tValidation Loss: 2.388011\n",
      "Epoch: 19 \tTraining Loss: 2.577979 \tValidation Loss: 4.905484\n",
      "Epoch: 20 \tTraining Loss: 2.457293 \tValidation Loss: 19.591466\n",
      "Epoch: 21 \tTraining Loss: 2.411681 \tValidation Loss: 2.952031\n",
      "Epoch: 22 \tTraining Loss: 2.338816 \tValidation Loss: 3.187832\n",
      "Epoch: 23 \tTraining Loss: 2.336527 \tValidation Loss: 3.876174\n",
      "Epoch: 24 \tTraining Loss: 2.252449 \tValidation Loss: 18.348874\n",
      "Epoch: 25 \tTraining Loss: 2.526314 \tValidation Loss: 5.793255\n",
      "Epoch: 26 \tTraining Loss: 2.617714 \tValidation Loss: 2.408068\n",
      "Epoch: 27 \tTraining Loss: 2.226474 \tValidation Loss: 3.128564\n",
      "Epoch: 28 \tTraining Loss: 2.185942 \tValidation Loss: 8.108837\n",
      "Epoch: 29 \tTraining Loss: 2.097187 \tValidation Loss: 4.073660\n",
      "Epoch: 30 \tTraining Loss: 2.110146 \tValidation Loss: 2.051571\n",
      "Validation loss decreased (2.117913 --> 2.051571).  Saving model ...\n",
      "Epoch: 31 \tTraining Loss: 2.072004 \tValidation Loss: 1.931072\n",
      "Validation loss decreased (2.051571 --> 1.931072).  Saving model ...\n",
      "Epoch: 32 \tTraining Loss: 2.056748 \tValidation Loss: 2.220467\n",
      "Epoch: 33 \tTraining Loss: 2.033964 \tValidation Loss: 2.723694\n",
      "Epoch: 34 \tTraining Loss: 2.008457 \tValidation Loss: 2.198767\n",
      "Epoch: 35 \tTraining Loss: 2.005431 \tValidation Loss: 1.948722\n",
      "Epoch: 36 \tTraining Loss: 1.927386 \tValidation Loss: 2.050683\n",
      "Epoch: 37 \tTraining Loss: 1.932924 \tValidation Loss: 6.199338\n",
      "Epoch: 38 \tTraining Loss: 1.941343 \tValidation Loss: 4.781747\n",
      "Epoch: 39 \tTraining Loss: 1.911150 \tValidation Loss: 1.848986\n",
      "Validation loss decreased (1.931072 --> 1.848986).  Saving model ...\n",
      "Epoch: 40 \tTraining Loss: 1.866784 \tValidation Loss: 1.963875\n",
      "Epoch: 41 \tTraining Loss: 1.929694 \tValidation Loss: 2.250208\n",
      "Epoch: 42 \tTraining Loss: 1.891949 \tValidation Loss: 2.074401\n",
      "Epoch: 43 \tTraining Loss: 2.189545 \tValidation Loss: 2.686382\n",
      "Epoch: 44 \tTraining Loss: 1.984535 \tValidation Loss: 1.761078\n",
      "Validation loss decreased (1.848986 --> 1.761078).  Saving model ...\n",
      "Epoch: 45 \tTraining Loss: 1.872164 \tValidation Loss: 2.326736\n",
      "Epoch: 46 \tTraining Loss: 1.840190 \tValidation Loss: 2.771656\n",
      "Epoch: 47 \tTraining Loss: 1.848262 \tValidation Loss: 2.892551\n",
      "Epoch: 48 \tTraining Loss: 1.790792 \tValidation Loss: 2.102318\n",
      "Epoch: 49 \tTraining Loss: 1.896167 \tValidation Loss: 24.345828\n",
      "Epoch: 50 \tTraining Loss: 1.946009 \tValidation Loss: 3.859915\n"
     ]
    }
   ],
   "source": [
    "train_losses, valid_losses = train(train_dl, valid_dl, model,\n",
    "                                       lr=0.01, n_epochs=50, saved_model=model_path/'resnet34_mask.pt')\n"
   ]
  },
  {
   "cell_type": "code",
   "execution_count": 471,
   "metadata": {
    "scrolled": true
   },
   "outputs": [
    {
     "name": "stdout",
     "output_type": "stream",
     "text": [
      "Epoch: 1 \tTraining Loss: 1.683897 \tValidation Loss: 1.918035\n",
      "Validation loss decreased (inf --> 1.918035).  Saving model ...\n",
      "Epoch: 2 \tTraining Loss: 1.637994 \tValidation Loss: 1.760930\n",
      "Validation loss decreased (1.918035 --> 1.760930).  Saving model ...\n",
      "Epoch: 3 \tTraining Loss: 1.604819 \tValidation Loss: 1.706940\n",
      "Validation loss decreased (1.760930 --> 1.706940).  Saving model ...\n",
      "Epoch: 4 \tTraining Loss: 1.592660 \tValidation Loss: 1.645421\n",
      "Validation loss decreased (1.706940 --> 1.645421).  Saving model ...\n",
      "Epoch: 5 \tTraining Loss: 1.572291 \tValidation Loss: 1.674142\n",
      "Epoch: 6 \tTraining Loss: 1.583262 \tValidation Loss: 1.729618\n",
      "Epoch: 7 \tTraining Loss: 1.556501 \tValidation Loss: 1.673574\n",
      "Epoch: 8 \tTraining Loss: 1.537974 \tValidation Loss: 1.551598\n",
      "Validation loss decreased (1.645421 --> 1.551598).  Saving model ...\n",
      "Epoch: 9 \tTraining Loss: 1.516602 \tValidation Loss: 1.594463\n",
      "Epoch: 10 \tTraining Loss: 1.535598 \tValidation Loss: 1.553714\n",
      "Epoch: 11 \tTraining Loss: 1.538169 \tValidation Loss: 1.810818\n",
      "Epoch: 12 \tTraining Loss: 1.533209 \tValidation Loss: 1.662794\n",
      "Epoch: 13 \tTraining Loss: 1.495224 \tValidation Loss: 1.580337\n",
      "Epoch: 14 \tTraining Loss: 1.489523 \tValidation Loss: 1.578801\n",
      "Epoch: 15 \tTraining Loss: 1.500373 \tValidation Loss: 1.640752\n",
      "Epoch: 16 \tTraining Loss: 1.513658 \tValidation Loss: 1.572095\n",
      "Epoch: 17 \tTraining Loss: 1.416713 \tValidation Loss: 1.588169\n",
      "Epoch: 18 \tTraining Loss: 1.464880 \tValidation Loss: 1.925527\n",
      "Epoch: 19 \tTraining Loss: 1.468257 \tValidation Loss: 1.633505\n",
      "Epoch: 20 \tTraining Loss: 1.392218 \tValidation Loss: 1.639440\n",
      "Epoch: 21 \tTraining Loss: 1.414711 \tValidation Loss: 1.519471\n",
      "Validation loss decreased (1.551598 --> 1.519471).  Saving model ...\n",
      "Epoch: 22 \tTraining Loss: 1.409452 \tValidation Loss: 1.602501\n",
      "Epoch: 23 \tTraining Loss: 1.416689 \tValidation Loss: 1.524642\n",
      "Epoch: 24 \tTraining Loss: 1.387939 \tValidation Loss: 1.688027\n",
      "Epoch: 25 \tTraining Loss: 1.431470 \tValidation Loss: 1.783624\n",
      "Epoch: 26 \tTraining Loss: 1.392660 \tValidation Loss: 1.552371\n",
      "Epoch: 27 \tTraining Loss: 1.414770 \tValidation Loss: 1.519477\n",
      "Epoch: 28 \tTraining Loss: 1.382771 \tValidation Loss: 1.604527\n",
      "Epoch: 29 \tTraining Loss: 1.377071 \tValidation Loss: 1.622366\n",
      "Epoch: 30 \tTraining Loss: 1.371923 \tValidation Loss: 1.534383\n",
      "Epoch: 31 \tTraining Loss: 1.312349 \tValidation Loss: 1.481359\n",
      "Validation loss decreased (1.519471 --> 1.481359).  Saving model ...\n",
      "Epoch: 32 \tTraining Loss: 1.321333 \tValidation Loss: 1.507658\n",
      "Epoch: 33 \tTraining Loss: 1.336415 \tValidation Loss: 1.637101\n",
      "Epoch: 34 \tTraining Loss: 1.362130 \tValidation Loss: 1.703384\n",
      "Epoch: 35 \tTraining Loss: 1.382529 \tValidation Loss: 1.655888\n",
      "Epoch: 36 \tTraining Loss: 1.347121 \tValidation Loss: 1.603461\n",
      "Epoch: 37 \tTraining Loss: 1.287527 \tValidation Loss: 1.869143\n",
      "Epoch: 38 \tTraining Loss: 1.324267 \tValidation Loss: 1.934313\n",
      "Epoch: 39 \tTraining Loss: 1.278450 \tValidation Loss: 1.506488\n",
      "Epoch: 40 \tTraining Loss: 1.234466 \tValidation Loss: 2.158315\n",
      "Epoch: 41 \tTraining Loss: 1.282748 \tValidation Loss: 1.578369\n",
      "Epoch: 42 \tTraining Loss: 1.304650 \tValidation Loss: 1.513719\n",
      "Epoch: 43 \tTraining Loss: 1.268835 \tValidation Loss: 1.474612\n",
      "Validation loss decreased (1.481359 --> 1.474612).  Saving model ...\n",
      "Epoch: 44 \tTraining Loss: 1.279810 \tValidation Loss: 1.469517\n",
      "Validation loss decreased (1.474612 --> 1.469517).  Saving model ...\n",
      "Epoch: 45 \tTraining Loss: 1.223737 \tValidation Loss: 1.506851\n",
      "Epoch: 46 \tTraining Loss: 1.296435 \tValidation Loss: 1.496674\n",
      "Epoch: 47 \tTraining Loss: 1.276071 \tValidation Loss: 1.471975\n",
      "Epoch: 48 \tTraining Loss: 1.305072 \tValidation Loss: 1.500740\n",
      "Epoch: 49 \tTraining Loss: 1.243379 \tValidation Loss: 1.443795\n",
      "Validation loss decreased (1.469517 --> 1.443795).  Saving model ...\n",
      "Epoch: 50 \tTraining Loss: 1.254461 \tValidation Loss: 1.549182\n"
     ]
    }
   ],
   "source": [
    "train_losses, valid_losses = train(train_dl, valid_dl, model,\n",
    "                                       lr=0.001, n_epochs=50, saved_model=model_path/'resnet34_mask.pt')\n"
   ]
  },
  {
   "cell_type": "code",
   "execution_count": 472,
   "metadata": {},
   "outputs": [
    {
     "name": "stdout",
     "output_type": "stream",
     "text": [
      "Epoch: 1 \tTraining Loss: 1.262696 \tValidation Loss: 1.453768\n",
      "Validation loss decreased (inf --> 1.453768).  Saving model ...\n",
      "Epoch: 2 \tTraining Loss: 1.197220 \tValidation Loss: 1.421263\n",
      "Validation loss decreased (1.453768 --> 1.421263).  Saving model ...\n",
      "Epoch: 3 \tTraining Loss: 1.281837 \tValidation Loss: 1.448822\n",
      "Epoch: 4 \tTraining Loss: 1.224216 \tValidation Loss: 1.404600\n",
      "Validation loss decreased (1.421263 --> 1.404600).  Saving model ...\n",
      "Epoch: 5 \tTraining Loss: 1.209884 \tValidation Loss: 1.480343\n",
      "Epoch: 6 \tTraining Loss: 1.192880 \tValidation Loss: 1.497431\n",
      "Epoch: 7 \tTraining Loss: 1.158667 \tValidation Loss: 1.533399\n",
      "Epoch: 8 \tTraining Loss: 1.153943 \tValidation Loss: 1.549524\n",
      "Epoch: 9 \tTraining Loss: 1.173873 \tValidation Loss: 1.452559\n",
      "Epoch: 10 \tTraining Loss: 1.198935 \tValidation Loss: 1.474930\n",
      "Epoch: 11 \tTraining Loss: 1.197285 \tValidation Loss: 1.496732\n",
      "Epoch: 12 \tTraining Loss: 1.135204 \tValidation Loss: 1.468675\n",
      "Epoch: 13 \tTraining Loss: 1.219859 \tValidation Loss: 1.522437\n",
      "Epoch: 14 \tTraining Loss: 1.137470 \tValidation Loss: 1.446327\n",
      "Epoch: 15 \tTraining Loss: 1.123892 \tValidation Loss: 1.520804\n",
      "Epoch: 16 \tTraining Loss: 1.122532 \tValidation Loss: 1.477169\n",
      "Epoch: 17 \tTraining Loss: 1.151406 \tValidation Loss: 1.399357\n",
      "Validation loss decreased (1.404600 --> 1.399357).  Saving model ...\n",
      "Epoch: 18 \tTraining Loss: 1.118348 \tValidation Loss: 1.436231\n",
      "Epoch: 19 \tTraining Loss: 1.150272 \tValidation Loss: 1.834890\n",
      "Epoch: 20 \tTraining Loss: 1.146652 \tValidation Loss: 1.400042\n",
      "Epoch: 21 \tTraining Loss: 1.169315 \tValidation Loss: 1.401373\n",
      "Epoch: 22 \tTraining Loss: 1.185082 \tValidation Loss: 1.431007\n",
      "Epoch: 23 \tTraining Loss: 1.123154 \tValidation Loss: 1.413113\n",
      "Epoch: 24 \tTraining Loss: 1.109983 \tValidation Loss: 1.549527\n",
      "Epoch: 25 \tTraining Loss: 1.079286 \tValidation Loss: 1.553761\n",
      "Epoch: 26 \tTraining Loss: 1.101220 \tValidation Loss: 1.475560\n",
      "Epoch: 27 \tTraining Loss: 1.119543 \tValidation Loss: 1.445236\n",
      "Epoch: 28 \tTraining Loss: 1.060075 \tValidation Loss: 1.487318\n",
      "Epoch: 29 \tTraining Loss: 1.110518 \tValidation Loss: 1.443648\n",
      "Epoch: 30 \tTraining Loss: 1.051516 \tValidation Loss: 1.369031\n",
      "Validation loss decreased (1.399357 --> 1.369031).  Saving model ...\n",
      "Epoch: 31 \tTraining Loss: 1.157389 \tValidation Loss: 1.381281\n",
      "Epoch: 32 \tTraining Loss: 1.102460 \tValidation Loss: 1.493424\n",
      "Epoch: 33 \tTraining Loss: 1.080331 \tValidation Loss: 1.417460\n",
      "Epoch: 34 \tTraining Loss: 1.038789 \tValidation Loss: 1.409059\n",
      "Epoch: 35 \tTraining Loss: 1.102763 \tValidation Loss: 1.388823\n",
      "Epoch: 36 \tTraining Loss: 1.045168 \tValidation Loss: 1.441059\n",
      "Epoch: 37 \tTraining Loss: 1.046960 \tValidation Loss: 1.413772\n",
      "Epoch: 38 \tTraining Loss: 1.087205 \tValidation Loss: 1.382735\n",
      "Epoch: 39 \tTraining Loss: 1.026751 \tValidation Loss: 1.372158\n",
      "Epoch: 40 \tTraining Loss: 1.054571 \tValidation Loss: 1.392027\n",
      "Epoch: 41 \tTraining Loss: 1.039112 \tValidation Loss: 1.429690\n",
      "Epoch: 42 \tTraining Loss: 1.043946 \tValidation Loss: 1.371727\n",
      "Epoch: 43 \tTraining Loss: 1.063219 \tValidation Loss: 1.413358\n",
      "Epoch: 44 \tTraining Loss: 1.028537 \tValidation Loss: 1.363442\n",
      "Validation loss decreased (1.369031 --> 1.363442).  Saving model ...\n",
      "Epoch: 45 \tTraining Loss: 1.072619 \tValidation Loss: 1.463061\n",
      "Epoch: 46 \tTraining Loss: 0.994138 \tValidation Loss: 1.377920\n",
      "Epoch: 47 \tTraining Loss: 1.045556 \tValidation Loss: 1.389366\n",
      "Epoch: 48 \tTraining Loss: 1.048773 \tValidation Loss: 1.658374\n",
      "Epoch: 49 \tTraining Loss: 1.001395 \tValidation Loss: 1.397559\n",
      "Epoch: 50 \tTraining Loss: 1.113722 \tValidation Loss: 1.378057\n",
      "Epoch: 51 \tTraining Loss: 1.064474 \tValidation Loss: 1.375355\n",
      "Epoch: 52 \tTraining Loss: 1.002894 \tValidation Loss: 1.385508\n",
      "Epoch: 53 \tTraining Loss: 0.986919 \tValidation Loss: 1.362845\n",
      "Validation loss decreased (1.363442 --> 1.362845).  Saving model ...\n",
      "Epoch: 54 \tTraining Loss: 0.944169 \tValidation Loss: 1.346222\n",
      "Validation loss decreased (1.362845 --> 1.346222).  Saving model ...\n",
      "Epoch: 55 \tTraining Loss: 1.016632 \tValidation Loss: 1.391499\n",
      "Epoch: 56 \tTraining Loss: 0.973538 \tValidation Loss: 1.365183\n",
      "Epoch: 57 \tTraining Loss: 0.991893 \tValidation Loss: 1.365089\n",
      "Epoch: 58 \tTraining Loss: 0.976087 \tValidation Loss: 1.337645\n",
      "Validation loss decreased (1.346222 --> 1.337645).  Saving model ...\n",
      "Epoch: 59 \tTraining Loss: 0.989226 \tValidation Loss: 1.400455\n",
      "Epoch: 60 \tTraining Loss: 0.993865 \tValidation Loss: 1.432662\n",
      "Epoch: 61 \tTraining Loss: 0.972056 \tValidation Loss: 1.359362\n",
      "Epoch: 62 \tTraining Loss: 0.980087 \tValidation Loss: 1.393790\n",
      "Epoch: 63 \tTraining Loss: 0.947686 \tValidation Loss: 1.379815\n",
      "Epoch: 64 \tTraining Loss: 0.977750 \tValidation Loss: 1.399431\n",
      "Epoch: 65 \tTraining Loss: 0.980921 \tValidation Loss: 1.371928\n",
      "Epoch: 66 \tTraining Loss: 0.986785 \tValidation Loss: 1.344953\n",
      "Epoch: 67 \tTraining Loss: 0.940754 \tValidation Loss: 1.333654\n",
      "Validation loss decreased (1.337645 --> 1.333654).  Saving model ...\n",
      "Epoch: 68 \tTraining Loss: 0.936099 \tValidation Loss: 1.351195\n",
      "Epoch: 69 \tTraining Loss: 0.992847 \tValidation Loss: 1.406628\n",
      "Epoch: 70 \tTraining Loss: 1.005244 \tValidation Loss: 1.340255\n",
      "Epoch: 71 \tTraining Loss: 1.009988 \tValidation Loss: 1.350288\n",
      "Epoch: 72 \tTraining Loss: 0.956919 \tValidation Loss: 1.349257\n",
      "Epoch: 73 \tTraining Loss: 0.935613 \tValidation Loss: 1.400024\n",
      "Epoch: 74 \tTraining Loss: 0.920193 \tValidation Loss: 1.337549\n",
      "Epoch: 75 \tTraining Loss: 0.956956 \tValidation Loss: 1.339433\n",
      "Epoch: 76 \tTraining Loss: 0.937020 \tValidation Loss: 1.414830\n",
      "Epoch: 77 \tTraining Loss: 0.931903 \tValidation Loss: 1.350152\n",
      "Epoch: 78 \tTraining Loss: 0.940092 \tValidation Loss: 1.349124\n",
      "Epoch: 79 \tTraining Loss: 0.895324 \tValidation Loss: 1.359188\n",
      "Epoch: 80 \tTraining Loss: 0.932394 \tValidation Loss: 1.340958\n",
      "Epoch: 81 \tTraining Loss: 0.916474 \tValidation Loss: 1.355047\n",
      "Epoch: 82 \tTraining Loss: 0.952832 \tValidation Loss: 1.371618\n",
      "Epoch: 83 \tTraining Loss: 0.924673 \tValidation Loss: 1.348398\n",
      "Epoch: 84 \tTraining Loss: 1.018889 \tValidation Loss: 1.363845\n",
      "Epoch: 85 \tTraining Loss: 1.023650 \tValidation Loss: 1.432051\n",
      "Epoch: 86 \tTraining Loss: 0.986845 \tValidation Loss: 1.346807\n",
      "Epoch: 87 \tTraining Loss: 0.976818 \tValidation Loss: 1.329811\n",
      "Validation loss decreased (1.333654 --> 1.329811).  Saving model ...\n",
      "Epoch: 88 \tTraining Loss: 0.952916 \tValidation Loss: 1.501502\n",
      "Epoch: 89 \tTraining Loss: 0.955299 \tValidation Loss: 1.314869\n",
      "Validation loss decreased (1.329811 --> 1.314869).  Saving model ...\n",
      "Epoch: 90 \tTraining Loss: 0.956766 \tValidation Loss: 1.378977\n",
      "Epoch: 91 \tTraining Loss: 0.903615 \tValidation Loss: 1.322229\n",
      "Epoch: 92 \tTraining Loss: 0.913271 \tValidation Loss: 1.378613\n",
      "Epoch: 93 \tTraining Loss: 0.887329 \tValidation Loss: 1.346720\n",
      "Epoch: 94 \tTraining Loss: 1.218366 \tValidation Loss: 1.578361\n",
      "Epoch: 95 \tTraining Loss: 1.071686 \tValidation Loss: 1.414062\n",
      "Epoch: 96 \tTraining Loss: 0.961511 \tValidation Loss: 1.365057\n",
      "Epoch: 97 \tTraining Loss: 0.922045 \tValidation Loss: 1.366347\n",
      "Epoch: 98 \tTraining Loss: 0.956393 \tValidation Loss: 1.336588\n",
      "Epoch: 99 \tTraining Loss: 0.902935 \tValidation Loss: 1.343941\n",
      "Epoch: 100 \tTraining Loss: 0.875460 \tValidation Loss: 1.356143\n"
     ]
    }
   ],
   "source": [
    "train_losses, valid_losses = train(train_dl, valid_dl, model,\n",
    "                                       lr=0.001, n_epochs=100, saved_model=model_path/'resnet34_mask.pt')\n"
   ]
  },
  {
   "cell_type": "code",
   "execution_count": 473,
   "metadata": {
    "scrolled": true
   },
   "outputs": [
    {
     "name": "stdout",
     "output_type": "stream",
     "text": [
      "Epoch: 1 \tTraining Loss: 0.853219 \tValidation Loss: 1.356903\n",
      "Validation loss decreased (inf --> 1.356903).  Saving model ...\n",
      "Epoch: 2 \tTraining Loss: 0.838561 \tValidation Loss: 1.311472\n",
      "Validation loss decreased (1.356903 --> 1.311472).  Saving model ...\n",
      "Epoch: 3 \tTraining Loss: 0.839439 \tValidation Loss: 1.345147\n",
      "Epoch: 4 \tTraining Loss: 0.817293 \tValidation Loss: 1.341231\n",
      "Epoch: 5 \tTraining Loss: 0.821373 \tValidation Loss: 1.347150\n",
      "Epoch: 6 \tTraining Loss: 0.791518 \tValidation Loss: 1.306872\n",
      "Validation loss decreased (1.311472 --> 1.306872).  Saving model ...\n",
      "Epoch: 7 \tTraining Loss: 0.833646 \tValidation Loss: 1.310884\n",
      "Epoch: 8 \tTraining Loss: 0.819101 \tValidation Loss: 1.333163\n",
      "Epoch: 9 \tTraining Loss: 0.825033 \tValidation Loss: 1.322516\n",
      "Epoch: 10 \tTraining Loss: 0.827068 \tValidation Loss: 1.321301\n",
      "Epoch: 11 \tTraining Loss: 0.788324 \tValidation Loss: 1.346288\n",
      "Epoch: 12 \tTraining Loss: 0.789266 \tValidation Loss: 1.334418\n",
      "Epoch: 13 \tTraining Loss: 0.783766 \tValidation Loss: 1.329653\n",
      "Epoch: 14 \tTraining Loss: 0.804702 \tValidation Loss: 1.353202\n",
      "Epoch: 15 \tTraining Loss: 0.810801 \tValidation Loss: 1.338558\n",
      "Epoch: 16 \tTraining Loss: 0.814482 \tValidation Loss: 1.323403\n",
      "Epoch: 17 \tTraining Loss: 0.792655 \tValidation Loss: 1.311468\n",
      "Epoch: 18 \tTraining Loss: 0.782133 \tValidation Loss: 1.313899\n",
      "Epoch: 19 \tTraining Loss: 0.812833 \tValidation Loss: 1.331758\n",
      "Epoch: 20 \tTraining Loss: 0.768547 \tValidation Loss: 1.308735\n",
      "Epoch: 21 \tTraining Loss: 0.819956 \tValidation Loss: 1.312853\n",
      "Epoch: 22 \tTraining Loss: 0.787941 \tValidation Loss: 1.310293\n",
      "Epoch: 23 \tTraining Loss: 0.741945 \tValidation Loss: 1.315226\n",
      "Epoch: 24 \tTraining Loss: 0.818228 \tValidation Loss: 1.321582\n",
      "Epoch: 25 \tTraining Loss: 0.811224 \tValidation Loss: 1.308685\n",
      "Epoch: 26 \tTraining Loss: 0.777490 \tValidation Loss: 1.319851\n",
      "Epoch: 27 \tTraining Loss: 0.820682 \tValidation Loss: 1.312337\n",
      "Epoch: 28 \tTraining Loss: 0.780828 \tValidation Loss: 1.312906\n",
      "Epoch: 29 \tTraining Loss: 0.761445 \tValidation Loss: 1.330778\n",
      "Epoch: 30 \tTraining Loss: 0.766003 \tValidation Loss: 1.322624\n",
      "Epoch: 31 \tTraining Loss: 0.806906 \tValidation Loss: 1.314892\n",
      "Epoch: 32 \tTraining Loss: 0.826502 \tValidation Loss: 1.327790\n",
      "Epoch: 33 \tTraining Loss: 0.799822 \tValidation Loss: 1.335292\n",
      "Epoch: 34 \tTraining Loss: 0.758694 \tValidation Loss: 1.303283\n",
      "Validation loss decreased (1.306872 --> 1.303283).  Saving model ...\n",
      "Epoch: 35 \tTraining Loss: 0.774496 \tValidation Loss: 1.301770\n",
      "Validation loss decreased (1.303283 --> 1.301770).  Saving model ...\n",
      "Epoch: 36 \tTraining Loss: 0.786811 \tValidation Loss: 1.305524\n",
      "Epoch: 37 \tTraining Loss: 0.768548 \tValidation Loss: 1.316750\n",
      "Epoch: 38 \tTraining Loss: 0.787063 \tValidation Loss: 1.326065\n",
      "Epoch: 39 \tTraining Loss: 0.735315 \tValidation Loss: 1.313928\n",
      "Epoch: 40 \tTraining Loss: 0.792492 \tValidation Loss: 1.431139\n",
      "Epoch: 41 \tTraining Loss: 0.814977 \tValidation Loss: 1.387231\n",
      "Epoch: 42 \tTraining Loss: 0.770895 \tValidation Loss: 1.315889\n",
      "Epoch: 43 \tTraining Loss: 0.797855 \tValidation Loss: 1.308411\n",
      "Epoch: 44 \tTraining Loss: 0.775111 \tValidation Loss: 1.323314\n",
      "Epoch: 45 \tTraining Loss: 0.766447 \tValidation Loss: 1.354607\n",
      "Epoch: 46 \tTraining Loss: 0.733229 \tValidation Loss: 1.305583\n",
      "Epoch: 47 \tTraining Loss: 0.801466 \tValidation Loss: 1.322798\n",
      "Epoch: 48 \tTraining Loss: 0.762524 \tValidation Loss: 1.307931\n",
      "Epoch: 49 \tTraining Loss: 0.755028 \tValidation Loss: 1.307171\n",
      "Epoch: 50 \tTraining Loss: 0.781795 \tValidation Loss: 1.313293\n"
     ]
    }
   ],
   "source": [
    "train_losses, valid_losses = train(train_dl, valid_dl, model,\n",
    "                                       lr=0.0001, n_epochs=50, saved_model=model_path/'resnet34_mask.pt')\n"
   ]
  },
  {
   "cell_type": "markdown",
   "metadata": {},
   "source": [
    "## Predictions"
   ]
  },
  {
   "cell_type": "code",
   "execution_count": 502,
   "metadata": {},
   "outputs": [],
   "source": [
    "def predict(data_loader, model):\n",
    "    '''\n",
    "    Predict keypoints\n",
    "    Args:\n",
    "        data_loader (DataLoader): DataLoader for Dataset\n",
    "        model (nn.Module): trained model for prediction.\n",
    "    Return:\n",
    "        predictions (array-like): keypoints in float (no. of images x keypoints).\n",
    "    '''\n",
    "    \n",
    "    model.eval() # prep model for evaluation\n",
    "\n",
    "    with torch.no_grad():\n",
    "        for i, batch in enumerate(data_loader):\n",
    "            # forward pass: compute predicted outputs by passing inputs to the model\n",
    "            output = model(batch['image'].to(device)).cpu().numpy()\n",
    "            if i == 0:\n",
    "                predictions = output\n",
    "            else:\n",
    "                predictions = np.vstack((predictions, output))\n",
    "    \n",
    "    return predictions"
   ]
  },
  {
   "cell_type": "code",
   "execution_count": 506,
   "metadata": {},
   "outputs": [],
   "source": [
    "model.load_state_dict(torch.load(model_path/'resnet34_mask.pt'))\n",
    "\n",
    "predictions = predict(test_dl, model)\n",
    "\n"
   ]
  },
  {
   "cell_type": "code",
   "execution_count": 507,
   "metadata": {},
   "outputs": [
    {
     "data": {
      "text/plain": [
       "(1783, 30)"
      ]
     },
     "execution_count": 507,
     "metadata": {},
     "output_type": "execute_result"
    }
   ],
   "source": [
    "predictions.shape"
   ]
  },
  {
   "cell_type": "code",
   "execution_count": 508,
   "metadata": {},
   "outputs": [],
   "source": [
    "def view_pred_df(columns, test_df, predictions, image_ids=range(1,6)):\n",
    "    '''\n",
    "    Display predicted keypoints\n",
    "    Args:\n",
    "        columns (array-like): column names\n",
    "        test_df (DataFrame): dataframe with ImageId and Image columns\n",
    "        predictions (array-like): keypoints in float (no. of images x keypoints)\n",
    "        image_id (array-like): list or range of ImageIds begin at 1\n",
    "    '''\n",
    "    pred_df = pd.DataFrame(predictions, columns=columns)\n",
    "    pred_df = pd.concat([pred_df, test_df], axis=1)\n",
    "    pred_df = pred_df.set_index('ImageId')\n",
    "    show_images(pred_df, image_ids)  # ImageId as index begin at 1"
   ]
  },
  {
   "cell_type": "code",
   "execution_count": 512,
   "metadata": {},
   "outputs": [
    {
     "data": {
      "image/png": "[encoded data removed]",
      "text/plain": [
       "<Figure size 1080x720 with 5 Axes>"
      ]
     },
     "metadata": {
      "needs_background": "light"
     },
     "output_type": "display_data"
    }
   ],
   "source": [
    "columns = df_train.columns[:-1]\n",
    "\n",
    "view_pred_df(columns, test_data[:10], predictions)\n"
   ]
  },
  {
   "cell_type": "code",
   "execution_count": 515,
   "metadata": {},
   "outputs": [],
   "source": [
    "def create_submission(predictions, pred_file='data/preds.csv', sub_file='data/submission.csv', columns=None):\n",
    "    '''\n",
    "    Create csv file for submission from predictions\n",
    "    Args:\n",
    "        predictions (array-like): prediction (no. fo images x 30 keypoints)\n",
    "        pred_file (string): file path for prediction csv file\n",
    "        sub_file (string): file path for submission csv file\n",
    "        columns (dict): provided column names for submission file\n",
    "    '''\n",
    "    lookup = pd.read_csv('data/IdLookupTable.csv')\n",
    "    if columns == None:\n",
    "        columns = train_data.columns[:-1]\n",
    "    preds = pd.DataFrame(predictions, \n",
    "                         index=np.arange(1, len(predictions)+1), \n",
    "                         columns=columns)\n",
    "    preds.to_csv(pred_file)\n",
    "    locations = [preds.loc[image_id, feature_name] \n",
    "                 for image_id, feature_name \n",
    "                 in lookup[['ImageId', 'FeatureName']].values]\n",
    "    locations = [location if location < IMG_SIZE else IMG_SIZE for location in locations]\n",
    "    lookup.Location = pd.Series(locations)\n",
    "    lookup[['RowId', 'Location']].to_csv(sub_file, index=False)"
   ]
  },
  {
   "cell_type": "code",
   "execution_count": 516,
   "metadata": {},
   "outputs": [],
   "source": [
    "create_submission(predictions, \n",
    "                  pred_file='data/resnet34_mask_preds.csv', \n",
    "                  sub_file='data/resnet34_mask_submission.csv')"
   ]
  },
  {
   "cell_type": "code",
   "execution_count": 517,
   "metadata": {},
   "outputs": [
    {
     "name": "stdout",
     "output_type": "stream",
     "text": [
      "100%|█████████████████████████████████████████| 629k/629k [00:03<00:00, 165kB/s]\n",
      "Successfully submitted to Facial Keypoints Detection"
     ]
    }
   ],
   "source": [
    "# Comment out to submit to Kaggle: private 1.68023 public 1.87465\n",
    "import os\n",
    "os.environ['KAGGLE_USERNAME'] = \"\"\n",
    "os.environ['KAGGLE_KEY'] = \"\"\n",
    "\n",
    "\n",
    "!kaggle competitions submit -c facial-keypoints-detection -f data/resnet34_mask_submission.csv -m \"resnet34_mask\""
   ]
  },
  {
   "cell_type": "code",
   "execution_count": null,
   "metadata": {},
   "outputs": [],
   "source": []
  },
  {
   "cell_type": "code",
   "execution_count": null,
   "metadata": {},
   "outputs": [],
   "source": []
  }
 ],
 "metadata": {
  "kernelspec": {
   "display_name": "Python 3",
   "language": "python",
   "name": "python3"
  },
  "language_info": {
   "codemirror_mode": {
    "name": "ipython",
    "version": 3
   },
   "file_extension": ".py",
   "mimetype": "text/x-python",
   "name": "python",
   "nbconvert_exporter": "python",
   "pygments_lexer": "ipython3",
   "version": "3.7.4"
  },
  "toc": {
   "base_numbering": 1,
   "nav_menu": {},
   "number_sections": true,
   "sideBar": true,
   "skip_h1_title": true,
   "title_cell": "Table of Contents",
   "title_sidebar": "Contents",
   "toc_cell": true,
   "toc_position": {},
   "toc_section_display": true,
   "toc_window_display": true
  }
 },
 "nbformat": 4,
 "nbformat_minor": 4
}
