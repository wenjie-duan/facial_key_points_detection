{
 "cells": [
  {
   "cell_type": "markdown",
   "metadata": {
    "toc": true
   },
   "source": [
    "<h1>Table of Contents<span class=\"tocSkip\"></span></h1>\n",
    "<div class=\"toc\"><ul class=\"toc-item\"><li><span><a href=\"#Setup-&amp;-Summary\" data-toc-modified-id=\"Setup-&amp;-Summary-1\"><span class=\"toc-item-num\">1&nbsp;&nbsp;</span>Setup &amp; Summary</a></span><ul class=\"toc-item\"><li><span><a href=\"#Workflow\" data-toc-modified-id=\"Workflow-1.1\"><span class=\"toc-item-num\">1.1&nbsp;&nbsp;</span>Workflow</a></span></li><li><span><a href=\"#Reference:\" data-toc-modified-id=\"Reference:-1.2\"><span class=\"toc-item-num\">1.2&nbsp;&nbsp;</span>Reference:</a></span></li><li><span><a href=\"#Setup-my-kaggle-API\" data-toc-modified-id=\"Setup-my-kaggle-API-1.3\"><span class=\"toc-item-num\">1.3&nbsp;&nbsp;</span>Setup my kaggle API</a></span></li><li><span><a href=\"#Import-everything\" data-toc-modified-id=\"Import-everything-1.4\"><span class=\"toc-item-num\">1.4&nbsp;&nbsp;</span>Import everything</a></span></li></ul></li><li><span><a href=\"#Load-Data\" data-toc-modified-id=\"Load-Data-2\"><span class=\"toc-item-num\">2&nbsp;&nbsp;</span>Load Data</a></span><ul class=\"toc-item\"><li><ul class=\"toc-item\"><li><span><a href=\"#Read-CSV-data\" data-toc-modified-id=\"Read-CSV-data-2.0.1\"><span class=\"toc-item-num\">2.0.1&nbsp;&nbsp;</span>Read CSV data</a></span></li><li><span><a href=\"#Image-array-to-images\" data-toc-modified-id=\"Image-array-to-images-2.0.2\"><span class=\"toc-item-num\">2.0.2&nbsp;&nbsp;</span>Image array to images</a></span></li><li><span><a href=\"#Make-Data-bunch\" data-toc-modified-id=\"Make-Data-bunch-2.0.3\"><span class=\"toc-item-num\">2.0.3&nbsp;&nbsp;</span>Make Data bunch</a></span></li></ul></li></ul></li><li><span><a href=\"#Train-Model\" data-toc-modified-id=\"Train-Model-3\"><span class=\"toc-item-num\">3&nbsp;&nbsp;</span>Train Model</a></span></li><li><span><a href=\"#Fine-tune-model\" data-toc-modified-id=\"Fine-tune-model-4\"><span class=\"toc-item-num\">4&nbsp;&nbsp;</span>Fine tune model</a></span></li><li><span><a href=\"#Make-predictions\" data-toc-modified-id=\"Make-predictions-5\"><span class=\"toc-item-num\">5&nbsp;&nbsp;</span>Make predictions</a></span></li></ul></div>"
   ]
  },
  {
   "cell_type": "markdown",
   "metadata": {},
   "source": [
    "# Setup & Summary"
   ]
  },
  {
   "cell_type": "markdown",
   "metadata": {},
   "source": [
    "## Workflow\n",
    "\n",
    "- data preparation: transfer df to images, the format that fastai can load\n",
    "- fastai: \n",
    "    - learning rate finder, 30 epochs training  "
   ]
  },
  {
   "cell_type": "markdown",
   "metadata": {},
   "source": [
    "## Reference: \n",
    "- https://www.kaggle.com/nitron/facial-keypoints-fastai-image-regression"
   ]
  },
  {
   "cell_type": "markdown",
   "metadata": {},
   "source": [
    "## Setup my kaggle API"
   ]
  },
  {
   "cell_type": "code",
   "execution_count": 1,
   "metadata": {},
   "outputs": [],
   "source": [
    "import os\n",
    "os.environ[\"CUDA_VISIBLE_DEVICES\"]=\"1\"\n",
    "os.environ['KAGGLE_USERNAME'] = \"xxx\"\n",
    "os.environ['KAGGLE_KEY'] = \"xxx\""
   ]
  },
  {
   "cell_type": "markdown",
   "metadata": {},
   "source": [
    "## Import everything"
   ]
  },
  {
   "cell_type": "code",
   "execution_count": 2,
   "metadata": {
    "_cell_guid": "b1076dfc-b9ad-4769-8c92-a6c4dae69d19",
    "_uuid": "8f2839f25d086af736a60e9eeb907d3b93b6e0e5"
   },
   "outputs": [],
   "source": [
    "import numpy as np \n",
    "import pandas as pd\n",
    "\n",
    "from fastai.vision import *\n",
    "from fastai import *\n",
    "\n",
    "%reload_ext autoreload\n",
    "%autoreload 2\n",
    "%matplotlib inline\n",
    "\n",
    "import os\n",
    "import shutil\n",
    "import torch\n",
    "\n",
    "rn_seed=1\n",
    "np.random.seed(rn_seed)"
   ]
  },
  {
   "cell_type": "markdown",
   "metadata": {
    "_cell_guid": "79c7e3d0-c299-4dcb-8224-4455121ee9b0",
    "_uuid": "d629ff2d2480ee46fbb7e2d37f6b5fab8052498a",
    "collapsed": true
   },
   "source": [
    "# Load Data"
   ]
  },
  {
   "cell_type": "markdown",
   "metadata": {},
   "source": [
    "Control Variables"
   ]
  },
  {
   "cell_type": "code",
   "execution_count": 3,
   "metadata": {},
   "outputs": [],
   "source": [
    "train_path = Path('./data/fastai_train')\n",
    "test_path = Path('./data/fastai_test')"
   ]
  },
  {
   "cell_type": "markdown",
   "metadata": {},
   "source": [
    "### Read CSV data"
   ]
  },
  {
   "cell_type": "code",
   "execution_count": 4,
   "metadata": {},
   "outputs": [],
   "source": [
    "root = Path('./data')"
   ]
  },
  {
   "cell_type": "code",
   "execution_count": 5,
   "metadata": {},
   "outputs": [
    {
     "data": {
      "text/plain": [
       "7049"
      ]
     },
     "execution_count": 5,
     "metadata": {},
     "output_type": "execute_result"
    }
   ],
   "source": [
    "len(pd.read_csv(root/'training.csv'))"
   ]
  },
  {
   "cell_type": "code",
   "execution_count": 6,
   "metadata": {},
   "outputs": [],
   "source": [
    "id_lookup = pd.read_csv(root/'IdLookupTable.csv')\n",
    "train_csv = pd.read_csv(root/'training.csv')\n",
    "test_csv = pd.read_csv(root/'test.csv')"
   ]
  },
  {
   "cell_type": "code",
   "execution_count": 7,
   "metadata": {},
   "outputs": [
    {
     "data": {
      "text/html": [
       "<div>\n",
       "<style scoped>\n",
       "    .dataframe tbody tr th:only-of-type {\n",
       "        vertical-align: middle;\n",
       "    }\n",
       "\n",
       "    .dataframe tbody tr th {\n",
       "        vertical-align: top;\n",
       "    }\n",
       "\n",
       "    .dataframe thead th {\n",
       "        text-align: right;\n",
       "    }\n",
       "</style>\n",
       "<table border=\"1\" class=\"dataframe\">\n",
       "  <thead>\n",
       "    <tr style=\"text-align: right;\">\n",
       "      <th></th>\n",
       "      <th>RowId</th>\n",
       "      <th>ImageId</th>\n",
       "      <th>FeatureName</th>\n",
       "      <th>Location</th>\n",
       "    </tr>\n",
       "  </thead>\n",
       "  <tbody>\n",
       "    <tr>\n",
       "      <th>0</th>\n",
       "      <td>1</td>\n",
       "      <td>1</td>\n",
       "      <td>left_eye_center_x</td>\n",
       "      <td>NaN</td>\n",
       "    </tr>\n",
       "    <tr>\n",
       "      <th>1</th>\n",
       "      <td>2</td>\n",
       "      <td>1</td>\n",
       "      <td>left_eye_center_y</td>\n",
       "      <td>NaN</td>\n",
       "    </tr>\n",
       "    <tr>\n",
       "      <th>2</th>\n",
       "      <td>3</td>\n",
       "      <td>1</td>\n",
       "      <td>right_eye_center_x</td>\n",
       "      <td>NaN</td>\n",
       "    </tr>\n",
       "    <tr>\n",
       "      <th>3</th>\n",
       "      <td>4</td>\n",
       "      <td>1</td>\n",
       "      <td>right_eye_center_y</td>\n",
       "      <td>NaN</td>\n",
       "    </tr>\n",
       "    <tr>\n",
       "      <th>4</th>\n",
       "      <td>5</td>\n",
       "      <td>1</td>\n",
       "      <td>left_eye_inner_corner_x</td>\n",
       "      <td>NaN</td>\n",
       "    </tr>\n",
       "  </tbody>\n",
       "</table>\n",
       "</div>"
      ],
      "text/plain": [
       "   RowId  ImageId              FeatureName  Location\n",
       "0      1        1        left_eye_center_x       NaN\n",
       "1      2        1        left_eye_center_y       NaN\n",
       "2      3        1       right_eye_center_x       NaN\n",
       "3      4        1       right_eye_center_y       NaN\n",
       "4      5        1  left_eye_inner_corner_x       NaN"
      ]
     },
     "execution_count": 7,
     "metadata": {},
     "output_type": "execute_result"
    }
   ],
   "source": [
    "id_lookup.head()"
   ]
  },
  {
   "cell_type": "code",
   "execution_count": 8,
   "metadata": {},
   "outputs": [],
   "source": [
    "for c in train_csv.columns:\n",
    "    if(train_csv[c].dtype!='object'):\n",
    "        train_csv[c]=train_csv[c].fillna(train_csv[c].median())"
   ]
  },
  {
   "cell_type": "code",
   "execution_count": 9,
   "metadata": {},
   "outputs": [
    {
     "data": {
      "text/plain": [
       "7049"
      ]
     },
     "execution_count": 9,
     "metadata": {},
     "output_type": "execute_result"
    }
   ],
   "source": [
    "len(train_csv)"
   ]
  },
  {
   "cell_type": "code",
   "execution_count": 10,
   "metadata": {},
   "outputs": [
    {
     "data": {
      "text/html": [
       "<div>\n",
       "<style scoped>\n",
       "    .dataframe tbody tr th:only-of-type {\n",
       "        vertical-align: middle;\n",
       "    }\n",
       "\n",
       "    .dataframe tbody tr th {\n",
       "        vertical-align: top;\n",
       "    }\n",
       "\n",
       "    .dataframe thead th {\n",
       "        text-align: right;\n",
       "    }\n",
       "</style>\n",
       "<table border=\"1\" class=\"dataframe\">\n",
       "  <thead>\n",
       "    <tr style=\"text-align: right;\">\n",
       "      <th></th>\n",
       "      <th>left_eye_center_x</th>\n",
       "      <th>left_eye_center_y</th>\n",
       "      <th>right_eye_center_x</th>\n",
       "      <th>right_eye_center_y</th>\n",
       "      <th>left_eye_inner_corner_x</th>\n",
       "      <th>left_eye_inner_corner_y</th>\n",
       "      <th>left_eye_outer_corner_x</th>\n",
       "      <th>left_eye_outer_corner_y</th>\n",
       "      <th>right_eye_inner_corner_x</th>\n",
       "      <th>right_eye_inner_corner_y</th>\n",
       "      <th>...</th>\n",
       "      <th>nose_tip_x</th>\n",
       "      <th>nose_tip_y</th>\n",
       "      <th>mouth_left_corner_x</th>\n",
       "      <th>mouth_left_corner_y</th>\n",
       "      <th>mouth_right_corner_x</th>\n",
       "      <th>mouth_right_corner_y</th>\n",
       "      <th>mouth_center_top_lip_x</th>\n",
       "      <th>mouth_center_top_lip_y</th>\n",
       "      <th>mouth_center_bottom_lip_x</th>\n",
       "      <th>mouth_center_bottom_lip_y</th>\n",
       "    </tr>\n",
       "  </thead>\n",
       "  <tbody>\n",
       "    <tr>\n",
       "      <th>count</th>\n",
       "      <td>7049.000000</td>\n",
       "      <td>7049.000000</td>\n",
       "      <td>7049.000000</td>\n",
       "      <td>7049.000000</td>\n",
       "      <td>7049.000000</td>\n",
       "      <td>7049.000000</td>\n",
       "      <td>7049.000000</td>\n",
       "      <td>7049.000000</td>\n",
       "      <td>7049.000000</td>\n",
       "      <td>7049.000000</td>\n",
       "      <td>...</td>\n",
       "      <td>7049.000000</td>\n",
       "      <td>7049.000000</td>\n",
       "      <td>7049.000000</td>\n",
       "      <td>7049.000000</td>\n",
       "      <td>7049.000000</td>\n",
       "      <td>7049.000000</td>\n",
       "      <td>7049.000000</td>\n",
       "      <td>7049.000000</td>\n",
       "      <td>7049.000000</td>\n",
       "      <td>7049.000000</td>\n",
       "    </tr>\n",
       "    <tr>\n",
       "      <th>mean</th>\n",
       "      <td>66.359218</td>\n",
       "      <td>37.651059</td>\n",
       "      <td>30.306001</td>\n",
       "      <td>37.976641</td>\n",
       "      <td>59.257811</td>\n",
       "      <td>37.899533</td>\n",
       "      <td>73.274406</td>\n",
       "      <td>37.660882</td>\n",
       "      <td>36.651898</td>\n",
       "      <td>37.958820</td>\n",
       "      <td>...</td>\n",
       "      <td>48.374186</td>\n",
       "      <td>62.715884</td>\n",
       "      <td>63.212873</td>\n",
       "      <td>75.840500</td>\n",
       "      <td>32.955930</td>\n",
       "      <td>76.058293</td>\n",
       "      <td>47.928057</td>\n",
       "      <td>72.706601</td>\n",
       "      <td>48.569592</td>\n",
       "      <td>78.968864</td>\n",
       "    </tr>\n",
       "    <tr>\n",
       "      <th>std</th>\n",
       "      <td>3.445790</td>\n",
       "      <td>3.150692</td>\n",
       "      <td>3.080386</td>\n",
       "      <td>3.030830</td>\n",
       "      <td>1.528334</td>\n",
       "      <td>1.309824</td>\n",
       "      <td>1.931566</td>\n",
       "      <td>1.634136</td>\n",
       "      <td>1.332939</td>\n",
       "      <td>1.311357</td>\n",
       "      <td>...</td>\n",
       "      <td>4.280038</td>\n",
       "      <td>5.720567</td>\n",
       "      <td>2.314468</td>\n",
       "      <td>2.599481</td>\n",
       "      <td>2.249786</td>\n",
       "      <td>2.508036</td>\n",
       "      <td>1.887842</td>\n",
       "      <td>2.970112</td>\n",
       "      <td>4.259953</td>\n",
       "      <td>5.395201</td>\n",
       "    </tr>\n",
       "    <tr>\n",
       "      <th>min</th>\n",
       "      <td>22.763345</td>\n",
       "      <td>1.616512</td>\n",
       "      <td>0.686592</td>\n",
       "      <td>4.091264</td>\n",
       "      <td>19.064954</td>\n",
       "      <td>27.190098</td>\n",
       "      <td>27.571879</td>\n",
       "      <td>26.250023</td>\n",
       "      <td>5.751046</td>\n",
       "      <td>26.250023</td>\n",
       "      <td>...</td>\n",
       "      <td>12.944699</td>\n",
       "      <td>17.932414</td>\n",
       "      <td>22.923362</td>\n",
       "      <td>57.023258</td>\n",
       "      <td>2.245766</td>\n",
       "      <td>56.690208</td>\n",
       "      <td>12.605173</td>\n",
       "      <td>56.719043</td>\n",
       "      <td>12.536477</td>\n",
       "      <td>25.850503</td>\n",
       "    </tr>\n",
       "    <tr>\n",
       "      <th>25%</th>\n",
       "      <td>65.084235</td>\n",
       "      <td>35.906648</td>\n",
       "      <td>28.788000</td>\n",
       "      <td>36.329459</td>\n",
       "      <td>59.304615</td>\n",
       "      <td>37.878040</td>\n",
       "      <td>73.247824</td>\n",
       "      <td>37.639015</td>\n",
       "      <td>36.651562</td>\n",
       "      <td>37.944075</td>\n",
       "      <td>...</td>\n",
       "      <td>46.602370</td>\n",
       "      <td>59.292697</td>\n",
       "      <td>63.178286</td>\n",
       "      <td>75.778689</td>\n",
       "      <td>32.982305</td>\n",
       "      <td>76.000592</td>\n",
       "      <td>47.905490</td>\n",
       "      <td>72.605173</td>\n",
       "      <td>46.584000</td>\n",
       "      <td>75.567671</td>\n",
       "    </tr>\n",
       "    <tr>\n",
       "      <th>50%</th>\n",
       "      <td>66.497566</td>\n",
       "      <td>37.528055</td>\n",
       "      <td>30.251378</td>\n",
       "      <td>37.813273</td>\n",
       "      <td>59.304615</td>\n",
       "      <td>37.878040</td>\n",
       "      <td>73.247824</td>\n",
       "      <td>37.639015</td>\n",
       "      <td>36.651562</td>\n",
       "      <td>37.944075</td>\n",
       "      <td>...</td>\n",
       "      <td>48.424713</td>\n",
       "      <td>63.451421</td>\n",
       "      <td>63.178286</td>\n",
       "      <td>75.778689</td>\n",
       "      <td>32.982305</td>\n",
       "      <td>76.000592</td>\n",
       "      <td>47.905490</td>\n",
       "      <td>72.605173</td>\n",
       "      <td>48.594978</td>\n",
       "      <td>78.696326</td>\n",
       "    </tr>\n",
       "    <tr>\n",
       "      <th>75%</th>\n",
       "      <td>68.024349</td>\n",
       "      <td>39.254400</td>\n",
       "      <td>31.767416</td>\n",
       "      <td>39.562527</td>\n",
       "      <td>59.304615</td>\n",
       "      <td>37.878040</td>\n",
       "      <td>73.247824</td>\n",
       "      <td>37.639015</td>\n",
       "      <td>36.651562</td>\n",
       "      <td>37.944075</td>\n",
       "      <td>...</td>\n",
       "      <td>50.330437</td>\n",
       "      <td>66.492686</td>\n",
       "      <td>63.178286</td>\n",
       "      <td>75.778689</td>\n",
       "      <td>32.982305</td>\n",
       "      <td>76.000592</td>\n",
       "      <td>47.905490</td>\n",
       "      <td>72.605173</td>\n",
       "      <td>50.662249</td>\n",
       "      <td>82.222604</td>\n",
       "    </tr>\n",
       "    <tr>\n",
       "      <th>max</th>\n",
       "      <td>94.689280</td>\n",
       "      <td>80.502649</td>\n",
       "      <td>85.039381</td>\n",
       "      <td>81.270911</td>\n",
       "      <td>84.440991</td>\n",
       "      <td>66.562559</td>\n",
       "      <td>95.258090</td>\n",
       "      <td>64.618230</td>\n",
       "      <td>70.714966</td>\n",
       "      <td>69.808803</td>\n",
       "      <td>...</td>\n",
       "      <td>89.438592</td>\n",
       "      <td>95.935644</td>\n",
       "      <td>84.767123</td>\n",
       "      <td>94.673637</td>\n",
       "      <td>74.017993</td>\n",
       "      <td>95.510678</td>\n",
       "      <td>83.989082</td>\n",
       "      <td>94.548359</td>\n",
       "      <td>89.438592</td>\n",
       "      <td>95.808983</td>\n",
       "    </tr>\n",
       "  </tbody>\n",
       "</table>\n",
       "<p>8 rows × 30 columns</p>\n",
       "</div>"
      ],
      "text/plain": [
       "       left_eye_center_x  left_eye_center_y  right_eye_center_x  \\\n",
       "count        7049.000000        7049.000000         7049.000000   \n",
       "mean           66.359218          37.651059           30.306001   \n",
       "std             3.445790           3.150692            3.080386   \n",
       "min            22.763345           1.616512            0.686592   \n",
       "25%            65.084235          35.906648           28.788000   \n",
       "50%            66.497566          37.528055           30.251378   \n",
       "75%            68.024349          39.254400           31.767416   \n",
       "max            94.689280          80.502649           85.039381   \n",
       "\n",
       "       right_eye_center_y  left_eye_inner_corner_x  left_eye_inner_corner_y  \\\n",
       "count         7049.000000              7049.000000              7049.000000   \n",
       "mean            37.976641                59.257811                37.899533   \n",
       "std              3.030830                 1.528334                 1.309824   \n",
       "min              4.091264                19.064954                27.190098   \n",
       "25%             36.329459                59.304615                37.878040   \n",
       "50%             37.813273                59.304615                37.878040   \n",
       "75%             39.562527                59.304615                37.878040   \n",
       "max             81.270911                84.440991                66.562559   \n",
       "\n",
       "       left_eye_outer_corner_x  left_eye_outer_corner_y  \\\n",
       "count              7049.000000              7049.000000   \n",
       "mean                 73.274406                37.660882   \n",
       "std                   1.931566                 1.634136   \n",
       "min                  27.571879                26.250023   \n",
       "25%                  73.247824                37.639015   \n",
       "50%                  73.247824                37.639015   \n",
       "75%                  73.247824                37.639015   \n",
       "max                  95.258090                64.618230   \n",
       "\n",
       "       right_eye_inner_corner_x  right_eye_inner_corner_y  ...   nose_tip_x  \\\n",
       "count               7049.000000               7049.000000  ...  7049.000000   \n",
       "mean                  36.651898                 37.958820  ...    48.374186   \n",
       "std                    1.332939                  1.311357  ...     4.280038   \n",
       "min                    5.751046                 26.250023  ...    12.944699   \n",
       "25%                   36.651562                 37.944075  ...    46.602370   \n",
       "50%                   36.651562                 37.944075  ...    48.424713   \n",
       "75%                   36.651562                 37.944075  ...    50.330437   \n",
       "max                   70.714966                 69.808803  ...    89.438592   \n",
       "\n",
       "        nose_tip_y  mouth_left_corner_x  mouth_left_corner_y  \\\n",
       "count  7049.000000          7049.000000          7049.000000   \n",
       "mean     62.715884            63.212873            75.840500   \n",
       "std       5.720567             2.314468             2.599481   \n",
       "min      17.932414            22.923362            57.023258   \n",
       "25%      59.292697            63.178286            75.778689   \n",
       "50%      63.451421            63.178286            75.778689   \n",
       "75%      66.492686            63.178286            75.778689   \n",
       "max      95.935644            84.767123            94.673637   \n",
       "\n",
       "       mouth_right_corner_x  mouth_right_corner_y  mouth_center_top_lip_x  \\\n",
       "count           7049.000000           7049.000000             7049.000000   \n",
       "mean              32.955930             76.058293               47.928057   \n",
       "std                2.249786              2.508036                1.887842   \n",
       "min                2.245766             56.690208               12.605173   \n",
       "25%               32.982305             76.000592               47.905490   \n",
       "50%               32.982305             76.000592               47.905490   \n",
       "75%               32.982305             76.000592               47.905490   \n",
       "max               74.017993             95.510678               83.989082   \n",
       "\n",
       "       mouth_center_top_lip_y  mouth_center_bottom_lip_x  \\\n",
       "count             7049.000000                7049.000000   \n",
       "mean                72.706601                  48.569592   \n",
       "std                  2.970112                   4.259953   \n",
       "min                 56.719043                  12.536477   \n",
       "25%                 72.605173                  46.584000   \n",
       "50%                 72.605173                  48.594978   \n",
       "75%                 72.605173                  50.662249   \n",
       "max                 94.548359                  89.438592   \n",
       "\n",
       "       mouth_center_bottom_lip_y  \n",
       "count                7049.000000  \n",
       "mean                   78.968864  \n",
       "std                     5.395201  \n",
       "min                    25.850503  \n",
       "25%                    75.567671  \n",
       "50%                    78.696326  \n",
       "75%                    82.222604  \n",
       "max                    95.808983  \n",
       "\n",
       "[8 rows x 30 columns]"
      ]
     },
     "execution_count": 10,
     "metadata": {},
     "output_type": "execute_result"
    }
   ],
   "source": [
    "train_csv.describe()"
   ]
  },
  {
   "cell_type": "code",
   "execution_count": 11,
   "metadata": {},
   "outputs": [
    {
     "data": {
      "text/html": [
       "<div>\n",
       "<style scoped>\n",
       "    .dataframe tbody tr th:only-of-type {\n",
       "        vertical-align: middle;\n",
       "    }\n",
       "\n",
       "    .dataframe tbody tr th {\n",
       "        vertical-align: top;\n",
       "    }\n",
       "\n",
       "    .dataframe thead th {\n",
       "        text-align: right;\n",
       "    }\n",
       "</style>\n",
       "<table border=\"1\" class=\"dataframe\">\n",
       "  <thead>\n",
       "    <tr style=\"text-align: right;\">\n",
       "      <th></th>\n",
       "      <th>ImageId</th>\n",
       "      <th>Image</th>\n",
       "    </tr>\n",
       "  </thead>\n",
       "  <tbody>\n",
       "    <tr>\n",
       "      <th>0</th>\n",
       "      <td>1</td>\n",
       "      <td>182 183 182 182 180 180 176 169 156 137 124 10...</td>\n",
       "    </tr>\n",
       "    <tr>\n",
       "      <th>1</th>\n",
       "      <td>2</td>\n",
       "      <td>76 87 81 72 65 59 64 76 69 42 31 38 49 58 58 4...</td>\n",
       "    </tr>\n",
       "    <tr>\n",
       "      <th>2</th>\n",
       "      <td>3</td>\n",
       "      <td>177 176 174 170 169 169 168 166 166 166 161 14...</td>\n",
       "    </tr>\n",
       "    <tr>\n",
       "      <th>3</th>\n",
       "      <td>4</td>\n",
       "      <td>176 174 174 175 174 174 176 176 175 171 165 15...</td>\n",
       "    </tr>\n",
       "    <tr>\n",
       "      <th>4</th>\n",
       "      <td>5</td>\n",
       "      <td>50 47 44 101 144 149 120 58 48 42 35 35 37 39 ...</td>\n",
       "    </tr>\n",
       "  </tbody>\n",
       "</table>\n",
       "</div>"
      ],
      "text/plain": [
       "   ImageId                                              Image\n",
       "0        1  182 183 182 182 180 180 176 169 156 137 124 10...\n",
       "1        2  76 87 81 72 65 59 64 76 69 42 31 38 49 58 58 4...\n",
       "2        3  177 176 174 170 169 169 168 166 166 166 161 14...\n",
       "3        4  176 174 174 175 174 174 176 176 175 171 165 15...\n",
       "4        5  50 47 44 101 144 149 120 58 48 42 35 35 37 39 ..."
      ]
     },
     "execution_count": 11,
     "metadata": {},
     "output_type": "execute_result"
    }
   ],
   "source": [
    "test_csv.head()"
   ]
  },
  {
   "cell_type": "markdown",
   "metadata": {},
   "source": [
    "### Image array to images "
   ]
  },
  {
   "cell_type": "markdown",
   "metadata": {},
   "source": [
    "Save train images"
   ]
  },
  {
   "cell_type": "code",
   "execution_count": 12,
   "metadata": {},
   "outputs": [],
   "source": [
    "def save_str_img(strimg,w,h,flpath):\n",
    "    px=255-np.array(strimg.split(),dtype=int)\n",
    "    if(len(px)==w*h and len(px)%w==0 and len(px)%h==0):\n",
    "        cpx = list(px.reshape(w,h))\n",
    "        img = Image(Tensor([cpx,cpx,cpx]))\n",
    "        img.save(flpath)\n",
    "        return img\n",
    "    else:\n",
    "        raise Exception(\"Invalid height and width\")"
   ]
  },
  {
   "cell_type": "code",
   "execution_count": 13,
   "metadata": {},
   "outputs": [],
   "source": [
    "# make image folders\n",
    "# shutil.rmtree(train_path)\n",
    "train_path.mkdir(exist_ok=True)\n",
    "test_path.mkdir(exist_ok=True)"
   ]
  },
  {
   "cell_type": "markdown",
   "metadata": {},
   "source": [
    "- only save data for one time\n",
    "- mute afterwards"
   ]
  },
  {
   "cell_type": "code",
   "execution_count": 14,
   "metadata": {},
   "outputs": [],
   "source": [
    "# for index, train_row in train_csv.iterrows():\n",
    "#     save_str_img(train_row.Image,96,96,train_path/(str(index)+'.jpg'))\n",
    "\n",
    "# for index, test_row in test_csv.iterrows():\n",
    "#     save_str_img(test_row.Image,96,96,test_path/(str(index)+'.jpg'))"
   ]
  },
  {
   "cell_type": "markdown",
   "metadata": {},
   "source": [
    "### Make Data bunch"
   ]
  },
  {
   "cell_type": "code",
   "execution_count": 15,
   "metadata": {},
   "outputs": [],
   "source": [
    "def get_locs(flname):\n",
    "    index = int(flname.name[:-4])\n",
    "    plist=[]\n",
    "    coords=list(train_csv.loc[index])\n",
    "    for i in range(len(coords)//2):\n",
    "        plist.append([coords[i*2+1],coords[i*2]])\n",
    "    return tensor(plist)\n",
    "#     return tensor([coords[1],coords[0]])"
   ]
  },
  {
   "cell_type": "code",
   "execution_count": 16,
   "metadata": {},
   "outputs": [],
   "source": [
    "# make points image data bunch\n",
    "data = (PointsItemList.from_folder(train_path)\n",
    "        .split_by_rand_pct(0.05,seed=rn_seed)\n",
    "        .label_from_func(get_locs)\n",
    "        .transform([],size=(96,96))\n",
    "        .databunch(num_workers=0)\n",
    "       )"
   ]
  },
  {
   "cell_type": "code",
   "execution_count": 17,
   "metadata": {},
   "outputs": [
    {
     "data": {
      "image/png": "[encoded data removed]",
      "text/plain": [
       "<Figure size 432x432 with 9 Axes>"
      ]
     },
     "metadata": {
      "needs_background": "light"
     },
     "output_type": "display_data"
    }
   ],
   "source": [
    "data.show_batch(3,figsize=(6,6))"
   ]
  },
  {
   "cell_type": "markdown",
   "metadata": {},
   "source": [
    "# Train Model"
   ]
  },
  {
   "cell_type": "code",
   "execution_count": 18,
   "metadata": {},
   "outputs": [],
   "source": [
    "# calculates distance between true and predictions\n",
    "def mloss(y_true, y_pred):\n",
    "    y_true=y_true.view(-1,15,2)\n",
    "    \n",
    "    y_true[:,:,0]=y_true[:,:,0].clone()-y_pred[:,:,0]\n",
    "    y_true[:,:,1]=y_true[:,:,1].clone()-y_pred[:,:,1]\n",
    "    \n",
    "    y_true[:,:,0]=y_true[:,:,0].clone()**2\n",
    "    y_true[:,:,1]=y_true[:,:,1].clone()**2\n",
    "    \n",
    "    return y_true.sum(dim=2).sum(dim=1).sum()"
   ]
  },
  {
   "cell_type": "code",
   "execution_count": 19,
   "metadata": {},
   "outputs": [],
   "source": [
    "learn = cnn_learner(data,models.resnet152,loss_func=mloss)"
   ]
  },
  {
   "cell_type": "code",
   "execution_count": 21,
   "metadata": {},
   "outputs": [],
   "source": [
    "learn.fit_one_cycle(10)"
   ]
  },
  {
   "cell_type": "code",
   "execution_count": 41,
   "metadata": {},
   "outputs": [],
   "source": [
    "learn.show_results(rows=3,figsize=(6,6))"
   ]
  },
  {
   "cell_type": "code",
   "execution_count": 42,
   "metadata": {},
   "outputs": [],
   "source": [
    "learn.save('s1_simple')"
   ]
  },
  {
   "cell_type": "markdown",
   "metadata": {},
   "source": [
    "# Fine tune model"
   ]
  },
  {
   "cell_type": "code",
   "execution_count": 22,
   "metadata": {},
   "outputs": [],
   "source": [
    "learn.load('s1_simple')"
   ]
  },
  {
   "cell_type": "code",
   "execution_count": 23,
   "metadata": {},
   "outputs": [],
   "source": [
    "learn.unfreeze()"
   ]
  },
  {
   "cell_type": "code",
   "execution_count": 24,
   "metadata": {},
   "outputs": [
    {
     "data": {
      "text/html": [
       "\n",
       "    <div>\n",
       "        <style>\n",
       "            /* Turns off some styling */\n",
       "            progress {\n",
       "                /* gets rid of default border in Firefox and Opera. */\n",
       "                border: none;\n",
       "                /* Needs to be in here for Safari polyfill so background images work as expected. */\n",
       "                background-size: auto;\n",
       "            }\n",
       "            .progress-bar-interrupted, .progress-bar-interrupted::-webkit-progress-bar {\n",
       "                background: #F44336;\n",
       "            }\n",
       "        </style>\n",
       "      <progress value='0' class='' max='1', style='width:300px; height:20px; vertical-align: middle;'></progress>\n",
       "      0.00% [0/1 00:00<00:00]\n",
       "    </div>\n",
       "    \n",
       "<table border=\"1\" class=\"dataframe\">\n",
       "  <thead>\n",
       "    <tr style=\"text-align: left;\">\n",
       "      <th>epoch</th>\n",
       "      <th>train_loss</th>\n",
       "      <th>valid_loss</th>\n",
       "      <th>time</th>\n",
       "    </tr>\n",
       "  </thead>\n",
       "  <tbody>\n",
       "  </tbody>\n",
       "</table><p>\n",
       "\n",
       "    <div>\n",
       "        <style>\n",
       "            /* Turns off some styling */\n",
       "            progress {\n",
       "                /* gets rid of default border in Firefox and Opera. */\n",
       "                border: none;\n",
       "                /* Needs to be in here for Safari polyfill so background images work as expected. */\n",
       "                background-size: auto;\n",
       "            }\n",
       "            .progress-bar-interrupted, .progress-bar-interrupted::-webkit-progress-bar {\n",
       "                background: #F44336;\n",
       "            }\n",
       "        </style>\n",
       "      <progress value='64' class='' max='104', style='width:300px; height:20px; vertical-align: middle;'></progress>\n",
       "      61.54% [64/104 00:22<00:13 20.0342]\n",
       "    </div>\n",
       "    "
      ],
      "text/plain": [
       "<IPython.core.display.HTML object>"
      ]
     },
     "metadata": {},
     "output_type": "display_data"
    },
    {
     "name": "stdout",
     "output_type": "stream",
     "text": [
      "LR Finder is complete, type {learner_name}.recorder.plot() to see the graph.\n"
     ]
    }
   ],
   "source": [
    "learn.lr_find()"
   ]
  },
  {
   "cell_type": "code",
   "execution_count": 25,
   "metadata": {},
   "outputs": [
    {
     "data": {
      "image/png": "[encoded data removed]",
      "text/plain": [
       "<Figure size 432x288 with 1 Axes>"
      ]
     },
     "metadata": {
      "needs_background": "light"
     },
     "output_type": "display_data"
    }
   ],
   "source": [
    "learn.recorder.plot()"
   ]
  },
  {
   "cell_type": "code",
   "execution_count": 26,
   "metadata": {},
   "outputs": [
    {
     "data": {
      "text/html": [
       "<table border=\"1\" class=\"dataframe\">\n",
       "  <thead>\n",
       "    <tr style=\"text-align: left;\">\n",
       "      <th>epoch</th>\n",
       "      <th>train_loss</th>\n",
       "      <th>valid_loss</th>\n",
       "      <th>time</th>\n",
       "    </tr>\n",
       "  </thead>\n",
       "  <tbody>\n",
       "    <tr>\n",
       "      <td>0</td>\n",
       "      <td>6.250987</td>\n",
       "      <td>4.956032</td>\n",
       "      <td>00:36</td>\n",
       "    </tr>\n",
       "    <tr>\n",
       "      <td>1</td>\n",
       "      <td>5.734747</td>\n",
       "      <td>4.661420</td>\n",
       "      <td>00:36</td>\n",
       "    </tr>\n",
       "    <tr>\n",
       "      <td>2</td>\n",
       "      <td>5.302614</td>\n",
       "      <td>4.360019</td>\n",
       "      <td>00:36</td>\n",
       "    </tr>\n",
       "    <tr>\n",
       "      <td>3</td>\n",
       "      <td>4.596231</td>\n",
       "      <td>3.650794</td>\n",
       "      <td>00:36</td>\n",
       "    </tr>\n",
       "    <tr>\n",
       "      <td>4</td>\n",
       "      <td>4.002012</td>\n",
       "      <td>3.262419</td>\n",
       "      <td>00:36</td>\n",
       "    </tr>\n",
       "    <tr>\n",
       "      <td>5</td>\n",
       "      <td>3.454625</td>\n",
       "      <td>2.525209</td>\n",
       "      <td>00:36</td>\n",
       "    </tr>\n",
       "    <tr>\n",
       "      <td>6</td>\n",
       "      <td>3.074172</td>\n",
       "      <td>2.389297</td>\n",
       "      <td>00:36</td>\n",
       "    </tr>\n",
       "    <tr>\n",
       "      <td>7</td>\n",
       "      <td>2.935083</td>\n",
       "      <td>2.371313</td>\n",
       "      <td>00:36</td>\n",
       "    </tr>\n",
       "    <tr>\n",
       "      <td>8</td>\n",
       "      <td>2.788051</td>\n",
       "      <td>2.176108</td>\n",
       "      <td>00:36</td>\n",
       "    </tr>\n",
       "    <tr>\n",
       "      <td>9</td>\n",
       "      <td>2.569252</td>\n",
       "      <td>2.263585</td>\n",
       "      <td>00:36</td>\n",
       "    </tr>\n",
       "    <tr>\n",
       "      <td>10</td>\n",
       "      <td>2.227420</td>\n",
       "      <td>1.975968</td>\n",
       "      <td>00:36</td>\n",
       "    </tr>\n",
       "    <tr>\n",
       "      <td>11</td>\n",
       "      <td>2.252748</td>\n",
       "      <td>2.135039</td>\n",
       "      <td>00:36</td>\n",
       "    </tr>\n",
       "    <tr>\n",
       "      <td>12</td>\n",
       "      <td>2.137882</td>\n",
       "      <td>1.883039</td>\n",
       "      <td>00:36</td>\n",
       "    </tr>\n",
       "    <tr>\n",
       "      <td>13</td>\n",
       "      <td>1.970702</td>\n",
       "      <td>1.855611</td>\n",
       "      <td>00:36</td>\n",
       "    </tr>\n",
       "    <tr>\n",
       "      <td>14</td>\n",
       "      <td>1.868831</td>\n",
       "      <td>1.690328</td>\n",
       "      <td>00:36</td>\n",
       "    </tr>\n",
       "    <tr>\n",
       "      <td>15</td>\n",
       "      <td>1.642953</td>\n",
       "      <td>1.658044</td>\n",
       "      <td>00:36</td>\n",
       "    </tr>\n",
       "    <tr>\n",
       "      <td>16</td>\n",
       "      <td>1.670640</td>\n",
       "      <td>1.671898</td>\n",
       "      <td>00:36</td>\n",
       "    </tr>\n",
       "    <tr>\n",
       "      <td>17</td>\n",
       "      <td>1.514934</td>\n",
       "      <td>1.536458</td>\n",
       "      <td>00:36</td>\n",
       "    </tr>\n",
       "    <tr>\n",
       "      <td>18</td>\n",
       "      <td>1.392738</td>\n",
       "      <td>1.492821</td>\n",
       "      <td>00:36</td>\n",
       "    </tr>\n",
       "    <tr>\n",
       "      <td>19</td>\n",
       "      <td>1.343744</td>\n",
       "      <td>1.448426</td>\n",
       "      <td>00:36</td>\n",
       "    </tr>\n",
       "    <tr>\n",
       "      <td>20</td>\n",
       "      <td>1.270803</td>\n",
       "      <td>1.479461</td>\n",
       "      <td>00:36</td>\n",
       "    </tr>\n",
       "    <tr>\n",
       "      <td>21</td>\n",
       "      <td>1.129493</td>\n",
       "      <td>1.381303</td>\n",
       "      <td>00:36</td>\n",
       "    </tr>\n",
       "    <tr>\n",
       "      <td>22</td>\n",
       "      <td>1.090053</td>\n",
       "      <td>1.331759</td>\n",
       "      <td>00:36</td>\n",
       "    </tr>\n",
       "    <tr>\n",
       "      <td>23</td>\n",
       "      <td>1.084821</td>\n",
       "      <td>1.361115</td>\n",
       "      <td>00:36</td>\n",
       "    </tr>\n",
       "    <tr>\n",
       "      <td>24</td>\n",
       "      <td>0.953519</td>\n",
       "      <td>1.316671</td>\n",
       "      <td>00:36</td>\n",
       "    </tr>\n",
       "    <tr>\n",
       "      <td>25</td>\n",
       "      <td>0.965870</td>\n",
       "      <td>1.305805</td>\n",
       "      <td>00:36</td>\n",
       "    </tr>\n",
       "    <tr>\n",
       "      <td>26</td>\n",
       "      <td>0.918097</td>\n",
       "      <td>1.310647</td>\n",
       "      <td>00:36</td>\n",
       "    </tr>\n",
       "    <tr>\n",
       "      <td>27</td>\n",
       "      <td>0.883803</td>\n",
       "      <td>1.316461</td>\n",
       "      <td>00:36</td>\n",
       "    </tr>\n",
       "    <tr>\n",
       "      <td>28</td>\n",
       "      <td>0.913977</td>\n",
       "      <td>1.318489</td>\n",
       "      <td>00:36</td>\n",
       "    </tr>\n",
       "    <tr>\n",
       "      <td>29</td>\n",
       "      <td>0.873456</td>\n",
       "      <td>1.297300</td>\n",
       "      <td>00:36</td>\n",
       "    </tr>\n",
       "  </tbody>\n",
       "</table>"
      ],
      "text/plain": [
       "<IPython.core.display.HTML object>"
      ]
     },
     "metadata": {},
     "output_type": "display_data"
    }
   ],
   "source": [
    "learn.fit_one_cycle(30,1e-4)"
   ]
  },
  {
   "cell_type": "code",
   "execution_count": 27,
   "metadata": {},
   "outputs": [
    {
     "data": {
      "image/png": "[encoded data removed]",
      "text/plain": [
       "<Figure size 432x432 with 6 Axes>"
      ]
     },
     "metadata": {
      "needs_background": "light"
     },
     "output_type": "display_data"
    }
   ],
   "source": [
    "learn.show_results(rows=3,figsize=(6,6))"
   ]
  },
  {
   "cell_type": "markdown",
   "metadata": {},
   "source": [
    "# Make predictions"
   ]
  },
  {
   "cell_type": "markdown",
   "metadata": {},
   "source": [
    "Predict and display in one image"
   ]
  },
  {
   "cell_type": "code",
   "execution_count": 28,
   "metadata": {},
   "outputs": [],
   "source": [
    "def flp(npa):\n",
    "    for i in range(npa.shape[0]):\n",
    "        if(i%2==1):\n",
    "            tmp=npa[i]\n",
    "            npa[i]=npa[i-1]\n",
    "            npa[i-1]=tmp\n",
    "    return npa"
   ]
  },
  {
   "cell_type": "code",
   "execution_count": 29,
   "metadata": {},
   "outputs": [],
   "source": [
    "def get_coords(imgpnts):\n",
    "    return ((imgpnts+1)*48).numpy()"
   ]
  },
  {
   "cell_type": "code",
   "execution_count": 30,
   "metadata": {},
   "outputs": [
    {
     "data": {
      "image/png": "[encoded data removed]",
      "text/plain": [
       "<Figure size 216x216 with 1 Axes>"
      ]
     },
     "metadata": {
      "needs_background": "light"
     },
     "output_type": "display_data"
    }
   ],
   "source": [
    "test_img = open_image(test_path/'1600.jpg')\n",
    "pred = learn.predict(test_img)\n",
    "test_img.show(y=pred[0])"
   ]
  },
  {
   "cell_type": "code",
   "execution_count": 31,
   "metadata": {},
   "outputs": [
    {
     "data": {
      "image/png": "[encoded data removed]",
      "text/plain": [
       "<Figure size 216x216 with 1 Axes>"
      ]
     },
     "metadata": {
      "needs_background": "light"
     },
     "output_type": "display_data"
    }
   ],
   "source": [
    "test_img = open_image(test_path/'1600.jpg')\n",
    "pred = learn.predict(test_img)\n",
    "test_img.show(y=ImagePoints(FlowField(test_img.size,torch.from_numpy(get_coords(pred[1])))))"
   ]
  },
  {
   "cell_type": "markdown",
   "metadata": {},
   "source": [
    "Make predictions and save dataframe"
   ]
  },
  {
   "cell_type": "code",
   "execution_count": 32,
   "metadata": {},
   "outputs": [],
   "source": [
    "a=list(train_csv.columns.values)\n",
    "a.remove('Image')\n",
    "a.append('ImageId')"
   ]
  },
  {
   "cell_type": "code",
   "execution_count": 33,
   "metadata": {},
   "outputs": [],
   "source": [
    "test_preds = pd.DataFrame(columns=a)"
   ]
  },
  {
   "cell_type": "code",
   "execution_count": 34,
   "metadata": {},
   "outputs": [
    {
     "data": {
      "application/vnd.jupyter.widget-view+json": {
       "model_id": "6995e3d152574f6fbb4aaf0598b37e36",
       "version_major": 2,
       "version_minor": 0
      },
      "text/plain": [
       "IntProgress(value=0, max=1783)"
      ]
     },
     "metadata": {},
     "output_type": "display_data"
    }
   ],
   "source": [
    "from ipywidgets import IntProgress\n",
    "from IPython.display import display\n",
    "\n",
    "f = IntProgress(min=0, max=test_csv.count()[0]) # instantiate the bar\n",
    "display(f)\n",
    "for test_index in range(test_csv.count()[0]):\n",
    "    timg = open_image(test_path/(str(test_index)+'.jpg'))\n",
    "    pred = learn.predict(timg)\n",
    "    a=np.abs(flp(get_coords(pred[1]).reshape(1,-1)[0]))\n",
    "    a=np.append(a,test_csv.loc[test_index].ImageId)\n",
    "    test_preds.loc[test_index]=a\n",
    "    f.value+=1"
   ]
  },
  {
   "cell_type": "code",
   "execution_count": 35,
   "metadata": {},
   "outputs": [
    {
     "data": {
      "text/html": [
       "<div>\n",
       "<style scoped>\n",
       "    .dataframe tbody tr th:only-of-type {\n",
       "        vertical-align: middle;\n",
       "    }\n",
       "\n",
       "    .dataframe tbody tr th {\n",
       "        vertical-align: top;\n",
       "    }\n",
       "\n",
       "    .dataframe thead th {\n",
       "        text-align: right;\n",
       "    }\n",
       "</style>\n",
       "<table border=\"1\" class=\"dataframe\">\n",
       "  <thead>\n",
       "    <tr style=\"text-align: right;\">\n",
       "      <th></th>\n",
       "      <th>left_eye_center_x</th>\n",
       "      <th>left_eye_center_y</th>\n",
       "      <th>right_eye_center_x</th>\n",
       "      <th>right_eye_center_y</th>\n",
       "      <th>left_eye_inner_corner_x</th>\n",
       "      <th>left_eye_inner_corner_y</th>\n",
       "      <th>left_eye_outer_corner_x</th>\n",
       "      <th>left_eye_outer_corner_y</th>\n",
       "      <th>right_eye_inner_corner_x</th>\n",
       "      <th>right_eye_inner_corner_y</th>\n",
       "      <th>...</th>\n",
       "      <th>nose_tip_y</th>\n",
       "      <th>mouth_left_corner_x</th>\n",
       "      <th>mouth_left_corner_y</th>\n",
       "      <th>mouth_right_corner_x</th>\n",
       "      <th>mouth_right_corner_y</th>\n",
       "      <th>mouth_center_top_lip_x</th>\n",
       "      <th>mouth_center_top_lip_y</th>\n",
       "      <th>mouth_center_bottom_lip_x</th>\n",
       "      <th>mouth_center_bottom_lip_y</th>\n",
       "      <th>ImageId</th>\n",
       "    </tr>\n",
       "  </thead>\n",
       "  <tbody>\n",
       "    <tr>\n",
       "      <th>count</th>\n",
       "      <td>1783.000000</td>\n",
       "      <td>1783.000000</td>\n",
       "      <td>1783.000000</td>\n",
       "      <td>1783.000000</td>\n",
       "      <td>1783.000000</td>\n",
       "      <td>1783.000000</td>\n",
       "      <td>1783.000000</td>\n",
       "      <td>1783.000000</td>\n",
       "      <td>1783.000000</td>\n",
       "      <td>1783.000000</td>\n",
       "      <td>...</td>\n",
       "      <td>1783.000000</td>\n",
       "      <td>1783.000000</td>\n",
       "      <td>1783.000000</td>\n",
       "      <td>1783.000000</td>\n",
       "      <td>1783.000000</td>\n",
       "      <td>1783.000000</td>\n",
       "      <td>1783.000000</td>\n",
       "      <td>1783.000000</td>\n",
       "      <td>1783.000000</td>\n",
       "      <td>1783.000000</td>\n",
       "    </tr>\n",
       "    <tr>\n",
       "      <th>mean</th>\n",
       "      <td>65.918757</td>\n",
       "      <td>37.802653</td>\n",
       "      <td>30.192032</td>\n",
       "      <td>38.014865</td>\n",
       "      <td>59.247353</td>\n",
       "      <td>37.840487</td>\n",
       "      <td>73.199802</td>\n",
       "      <td>37.606790</td>\n",
       "      <td>36.513339</td>\n",
       "      <td>37.906913</td>\n",
       "      <td>...</td>\n",
       "      <td>62.660491</td>\n",
       "      <td>63.246345</td>\n",
       "      <td>75.646531</td>\n",
       "      <td>32.980062</td>\n",
       "      <td>75.913471</td>\n",
       "      <td>47.936811</td>\n",
       "      <td>72.492534</td>\n",
       "      <td>48.422178</td>\n",
       "      <td>78.762226</td>\n",
       "      <td>892.000000</td>\n",
       "    </tr>\n",
       "    <tr>\n",
       "      <th>std</th>\n",
       "      <td>3.198550</td>\n",
       "      <td>2.462964</td>\n",
       "      <td>2.393681</td>\n",
       "      <td>2.491086</td>\n",
       "      <td>0.804283</td>\n",
       "      <td>0.874278</td>\n",
       "      <td>1.143365</td>\n",
       "      <td>1.104164</td>\n",
       "      <td>0.719747</td>\n",
       "      <td>0.917343</td>\n",
       "      <td>...</td>\n",
       "      <td>4.797744</td>\n",
       "      <td>1.605416</td>\n",
       "      <td>2.009481</td>\n",
       "      <td>1.349344</td>\n",
       "      <td>2.000850</td>\n",
       "      <td>1.124569</td>\n",
       "      <td>2.360728</td>\n",
       "      <td>3.920309</td>\n",
       "      <td>4.513162</td>\n",
       "      <td>514.852082</td>\n",
       "    </tr>\n",
       "    <tr>\n",
       "      <th>min</th>\n",
       "      <td>33.040150</td>\n",
       "      <td>16.792934</td>\n",
       "      <td>4.054087</td>\n",
       "      <td>18.413555</td>\n",
       "      <td>48.899513</td>\n",
       "      <td>32.245903</td>\n",
       "      <td>62.190960</td>\n",
       "      <td>30.491146</td>\n",
       "      <td>31.984594</td>\n",
       "      <td>33.213791</td>\n",
       "      <td>...</td>\n",
       "      <td>35.342525</td>\n",
       "      <td>54.984501</td>\n",
       "      <td>66.807144</td>\n",
       "      <td>25.015022</td>\n",
       "      <td>66.155098</td>\n",
       "      <td>39.746490</td>\n",
       "      <td>61.589321</td>\n",
       "      <td>10.616861</td>\n",
       "      <td>41.400398</td>\n",
       "      <td>1.000000</td>\n",
       "    </tr>\n",
       "    <tr>\n",
       "      <th>25%</th>\n",
       "      <td>65.007210</td>\n",
       "      <td>36.217529</td>\n",
       "      <td>28.919208</td>\n",
       "      <td>36.413559</td>\n",
       "      <td>59.121819</td>\n",
       "      <td>37.708195</td>\n",
       "      <td>73.017311</td>\n",
       "      <td>37.447721</td>\n",
       "      <td>36.456190</td>\n",
       "      <td>37.781900</td>\n",
       "      <td>...</td>\n",
       "      <td>60.106913</td>\n",
       "      <td>62.999956</td>\n",
       "      <td>75.401325</td>\n",
       "      <td>32.771303</td>\n",
       "      <td>75.669086</td>\n",
       "      <td>47.748919</td>\n",
       "      <td>72.258904</td>\n",
       "      <td>46.708651</td>\n",
       "      <td>75.913486</td>\n",
       "      <td>446.500000</td>\n",
       "    </tr>\n",
       "    <tr>\n",
       "      <th>50%</th>\n",
       "      <td>66.178093</td>\n",
       "      <td>37.749905</td>\n",
       "      <td>30.188124</td>\n",
       "      <td>37.889568</td>\n",
       "      <td>59.288574</td>\n",
       "      <td>37.834110</td>\n",
       "      <td>73.187912</td>\n",
       "      <td>37.603947</td>\n",
       "      <td>36.597492</td>\n",
       "      <td>37.900921</td>\n",
       "      <td>...</td>\n",
       "      <td>63.257080</td>\n",
       "      <td>63.202927</td>\n",
       "      <td>75.628647</td>\n",
       "      <td>32.985668</td>\n",
       "      <td>75.877159</td>\n",
       "      <td>47.915779</td>\n",
       "      <td>72.486801</td>\n",
       "      <td>48.567661</td>\n",
       "      <td>78.610443</td>\n",
       "      <td>892.000000</td>\n",
       "    </tr>\n",
       "    <tr>\n",
       "      <th>75%</th>\n",
       "      <td>67.481598</td>\n",
       "      <td>39.286133</td>\n",
       "      <td>31.525146</td>\n",
       "      <td>39.476883</td>\n",
       "      <td>59.411530</td>\n",
       "      <td>37.956923</td>\n",
       "      <td>73.351860</td>\n",
       "      <td>37.745609</td>\n",
       "      <td>36.719570</td>\n",
       "      <td>38.020592</td>\n",
       "      <td>...</td>\n",
       "      <td>65.876751</td>\n",
       "      <td>63.410130</td>\n",
       "      <td>75.833958</td>\n",
       "      <td>33.191751</td>\n",
       "      <td>76.081993</td>\n",
       "      <td>48.086994</td>\n",
       "      <td>72.728992</td>\n",
       "      <td>50.413370</td>\n",
       "      <td>81.435284</td>\n",
       "      <td>1337.500000</td>\n",
       "    </tr>\n",
       "    <tr>\n",
       "      <th>max</th>\n",
       "      <td>74.408455</td>\n",
       "      <td>53.705738</td>\n",
       "      <td>44.300987</td>\n",
       "      <td>54.389832</td>\n",
       "      <td>66.310547</td>\n",
       "      <td>42.476173</td>\n",
       "      <td>82.150131</td>\n",
       "      <td>42.371964</td>\n",
       "      <td>39.811867</td>\n",
       "      <td>43.035114</td>\n",
       "      <td>...</td>\n",
       "      <td>77.300140</td>\n",
       "      <td>73.458954</td>\n",
       "      <td>86.714600</td>\n",
       "      <td>43.277134</td>\n",
       "      <td>87.377136</td>\n",
       "      <td>58.124393</td>\n",
       "      <td>85.349144</td>\n",
       "      <td>63.045670</td>\n",
       "      <td>93.411385</td>\n",
       "      <td>1783.000000</td>\n",
       "    </tr>\n",
       "  </tbody>\n",
       "</table>\n",
       "<p>8 rows × 31 columns</p>\n",
       "</div>"
      ],
      "text/plain": [
       "       left_eye_center_x  left_eye_center_y  right_eye_center_x  \\\n",
       "count        1783.000000        1783.000000         1783.000000   \n",
       "mean           65.918757          37.802653           30.192032   \n",
       "std             3.198550           2.462964            2.393681   \n",
       "min            33.040150          16.792934            4.054087   \n",
       "25%            65.007210          36.217529           28.919208   \n",
       "50%            66.178093          37.749905           30.188124   \n",
       "75%            67.481598          39.286133           31.525146   \n",
       "max            74.408455          53.705738           44.300987   \n",
       "\n",
       "       right_eye_center_y  left_eye_inner_corner_x  left_eye_inner_corner_y  \\\n",
       "count         1783.000000              1783.000000              1783.000000   \n",
       "mean            38.014865                59.247353                37.840487   \n",
       "std              2.491086                 0.804283                 0.874278   \n",
       "min             18.413555                48.899513                32.245903   \n",
       "25%             36.413559                59.121819                37.708195   \n",
       "50%             37.889568                59.288574                37.834110   \n",
       "75%             39.476883                59.411530                37.956923   \n",
       "max             54.389832                66.310547                42.476173   \n",
       "\n",
       "       left_eye_outer_corner_x  left_eye_outer_corner_y  \\\n",
       "count              1783.000000              1783.000000   \n",
       "mean                 73.199802                37.606790   \n",
       "std                   1.143365                 1.104164   \n",
       "min                  62.190960                30.491146   \n",
       "25%                  73.017311                37.447721   \n",
       "50%                  73.187912                37.603947   \n",
       "75%                  73.351860                37.745609   \n",
       "max                  82.150131                42.371964   \n",
       "\n",
       "       right_eye_inner_corner_x  right_eye_inner_corner_y  ...   nose_tip_y  \\\n",
       "count               1783.000000               1783.000000  ...  1783.000000   \n",
       "mean                  36.513339                 37.906913  ...    62.660491   \n",
       "std                    0.719747                  0.917343  ...     4.797744   \n",
       "min                   31.984594                 33.213791  ...    35.342525   \n",
       "25%                   36.456190                 37.781900  ...    60.106913   \n",
       "50%                   36.597492                 37.900921  ...    63.257080   \n",
       "75%                   36.719570                 38.020592  ...    65.876751   \n",
       "max                   39.811867                 43.035114  ...    77.300140   \n",
       "\n",
       "       mouth_left_corner_x  mouth_left_corner_y  mouth_right_corner_x  \\\n",
       "count          1783.000000          1783.000000           1783.000000   \n",
       "mean             63.246345            75.646531             32.980062   \n",
       "std               1.605416             2.009481              1.349344   \n",
       "min              54.984501            66.807144             25.015022   \n",
       "25%              62.999956            75.401325             32.771303   \n",
       "50%              63.202927            75.628647             32.985668   \n",
       "75%              63.410130            75.833958             33.191751   \n",
       "max              73.458954            86.714600             43.277134   \n",
       "\n",
       "       mouth_right_corner_y  mouth_center_top_lip_x  mouth_center_top_lip_y  \\\n",
       "count           1783.000000             1783.000000             1783.000000   \n",
       "mean              75.913471               47.936811               72.492534   \n",
       "std                2.000850                1.124569                2.360728   \n",
       "min               66.155098               39.746490               61.589321   \n",
       "25%               75.669086               47.748919               72.258904   \n",
       "50%               75.877159               47.915779               72.486801   \n",
       "75%               76.081993               48.086994               72.728992   \n",
       "max               87.377136               58.124393               85.349144   \n",
       "\n",
       "       mouth_center_bottom_lip_x  mouth_center_bottom_lip_y      ImageId  \n",
       "count                1783.000000                1783.000000  1783.000000  \n",
       "mean                   48.422178                  78.762226   892.000000  \n",
       "std                     3.920309                   4.513162   514.852082  \n",
       "min                    10.616861                  41.400398     1.000000  \n",
       "25%                    46.708651                  75.913486   446.500000  \n",
       "50%                    48.567661                  78.610443   892.000000  \n",
       "75%                    50.413370                  81.435284  1337.500000  \n",
       "max                    63.045670                  93.411385  1783.000000  \n",
       "\n",
       "[8 rows x 31 columns]"
      ]
     },
     "execution_count": 35,
     "metadata": {},
     "output_type": "execute_result"
    }
   ],
   "source": [
    "test_preds.describe()"
   ]
  },
  {
   "cell_type": "code",
   "execution_count": 36,
   "metadata": {},
   "outputs": [
    {
     "data": {
      "text/html": [
       "<div>\n",
       "<style scoped>\n",
       "    .dataframe tbody tr th:only-of-type {\n",
       "        vertical-align: middle;\n",
       "    }\n",
       "\n",
       "    .dataframe tbody tr th {\n",
       "        vertical-align: top;\n",
       "    }\n",
       "\n",
       "    .dataframe thead th {\n",
       "        text-align: right;\n",
       "    }\n",
       "</style>\n",
       "<table border=\"1\" class=\"dataframe\">\n",
       "  <thead>\n",
       "    <tr style=\"text-align: right;\">\n",
       "      <th></th>\n",
       "      <th>left_eye_center_x</th>\n",
       "      <th>left_eye_center_y</th>\n",
       "      <th>right_eye_center_x</th>\n",
       "      <th>right_eye_center_y</th>\n",
       "      <th>left_eye_inner_corner_x</th>\n",
       "      <th>left_eye_inner_corner_y</th>\n",
       "      <th>left_eye_outer_corner_x</th>\n",
       "      <th>left_eye_outer_corner_y</th>\n",
       "      <th>right_eye_inner_corner_x</th>\n",
       "      <th>right_eye_inner_corner_y</th>\n",
       "      <th>...</th>\n",
       "      <th>nose_tip_y</th>\n",
       "      <th>mouth_left_corner_x</th>\n",
       "      <th>mouth_left_corner_y</th>\n",
       "      <th>mouth_right_corner_x</th>\n",
       "      <th>mouth_right_corner_y</th>\n",
       "      <th>mouth_center_top_lip_x</th>\n",
       "      <th>mouth_center_top_lip_y</th>\n",
       "      <th>mouth_center_bottom_lip_x</th>\n",
       "      <th>mouth_center_bottom_lip_y</th>\n",
       "      <th>ImageId</th>\n",
       "    </tr>\n",
       "  </thead>\n",
       "  <tbody>\n",
       "    <tr>\n",
       "      <th>0</th>\n",
       "      <td>65.906494</td>\n",
       "      <td>38.304909</td>\n",
       "      <td>28.888744</td>\n",
       "      <td>36.773434</td>\n",
       "      <td>59.978333</td>\n",
       "      <td>38.101974</td>\n",
       "      <td>72.722595</td>\n",
       "      <td>38.955574</td>\n",
       "      <td>35.330315</td>\n",
       "      <td>37.332085</td>\n",
       "      <td>...</td>\n",
       "      <td>51.705330</td>\n",
       "      <td>63.839413</td>\n",
       "      <td>75.830048</td>\n",
       "      <td>32.456303</td>\n",
       "      <td>75.516968</td>\n",
       "      <td>48.725433</td>\n",
       "      <td>68.975670</td>\n",
       "      <td>48.480476</td>\n",
       "      <td>84.934456</td>\n",
       "      <td>1</td>\n",
       "    </tr>\n",
       "    <tr>\n",
       "      <th>1</th>\n",
       "      <td>67.170876</td>\n",
       "      <td>36.742180</td>\n",
       "      <td>27.436283</td>\n",
       "      <td>37.365360</td>\n",
       "      <td>60.291992</td>\n",
       "      <td>37.761200</td>\n",
       "      <td>73.703415</td>\n",
       "      <td>37.061111</td>\n",
       "      <td>34.031834</td>\n",
       "      <td>38.172390</td>\n",
       "      <td>...</td>\n",
       "      <td>58.887596</td>\n",
       "      <td>64.522263</td>\n",
       "      <td>75.164047</td>\n",
       "      <td>33.648190</td>\n",
       "      <td>76.352783</td>\n",
       "      <td>49.011559</td>\n",
       "      <td>72.511292</td>\n",
       "      <td>49.578083</td>\n",
       "      <td>86.290756</td>\n",
       "      <td>2</td>\n",
       "    </tr>\n",
       "    <tr>\n",
       "      <th>2</th>\n",
       "      <td>65.560883</td>\n",
       "      <td>36.577187</td>\n",
       "      <td>30.978149</td>\n",
       "      <td>37.823330</td>\n",
       "      <td>60.030075</td>\n",
       "      <td>37.531548</td>\n",
       "      <td>71.651390</td>\n",
       "      <td>36.675415</td>\n",
       "      <td>37.238979</td>\n",
       "      <td>38.541473</td>\n",
       "      <td>...</td>\n",
       "      <td>58.661980</td>\n",
       "      <td>64.019516</td>\n",
       "      <td>74.915665</td>\n",
       "      <td>36.068359</td>\n",
       "      <td>76.154694</td>\n",
       "      <td>49.972511</td>\n",
       "      <td>72.178986</td>\n",
       "      <td>49.530727</td>\n",
       "      <td>83.758781</td>\n",
       "      <td>3</td>\n",
       "    </tr>\n",
       "    <tr>\n",
       "      <th>3</th>\n",
       "      <td>65.630699</td>\n",
       "      <td>38.716110</td>\n",
       "      <td>31.296072</td>\n",
       "      <td>39.725067</td>\n",
       "      <td>59.087311</td>\n",
       "      <td>40.022717</td>\n",
       "      <td>72.336761</td>\n",
       "      <td>39.879959</td>\n",
       "      <td>36.823341</td>\n",
       "      <td>40.788147</td>\n",
       "      <td>...</td>\n",
       "      <td>53.833351</td>\n",
       "      <td>64.510139</td>\n",
       "      <td>77.008286</td>\n",
       "      <td>33.622406</td>\n",
       "      <td>78.218735</td>\n",
       "      <td>48.348953</td>\n",
       "      <td>71.794128</td>\n",
       "      <td>49.084595</td>\n",
       "      <td>81.412338</td>\n",
       "      <td>4</td>\n",
       "    </tr>\n",
       "    <tr>\n",
       "      <th>4</th>\n",
       "      <td>67.331985</td>\n",
       "      <td>36.827911</td>\n",
       "      <td>28.380838</td>\n",
       "      <td>37.980751</td>\n",
       "      <td>61.004597</td>\n",
       "      <td>37.276672</td>\n",
       "      <td>74.005867</td>\n",
       "      <td>37.420456</td>\n",
       "      <td>35.255314</td>\n",
       "      <td>38.153286</td>\n",
       "      <td>...</td>\n",
       "      <td>55.009678</td>\n",
       "      <td>64.790459</td>\n",
       "      <td>76.018661</td>\n",
       "      <td>34.620953</td>\n",
       "      <td>76.939430</td>\n",
       "      <td>49.116245</td>\n",
       "      <td>69.026909</td>\n",
       "      <td>49.165558</td>\n",
       "      <td>85.991623</td>\n",
       "      <td>5</td>\n",
       "    </tr>\n",
       "  </tbody>\n",
       "</table>\n",
       "<p>5 rows × 31 columns</p>\n",
       "</div>"
      ],
      "text/plain": [
       "   left_eye_center_x  left_eye_center_y  right_eye_center_x  \\\n",
       "0          65.906494          38.304909           28.888744   \n",
       "1          67.170876          36.742180           27.436283   \n",
       "2          65.560883          36.577187           30.978149   \n",
       "3          65.630699          38.716110           31.296072   \n",
       "4          67.331985          36.827911           28.380838   \n",
       "\n",
       "   right_eye_center_y  left_eye_inner_corner_x  left_eye_inner_corner_y  \\\n",
       "0           36.773434                59.978333                38.101974   \n",
       "1           37.365360                60.291992                37.761200   \n",
       "2           37.823330                60.030075                37.531548   \n",
       "3           39.725067                59.087311                40.022717   \n",
       "4           37.980751                61.004597                37.276672   \n",
       "\n",
       "   left_eye_outer_corner_x  left_eye_outer_corner_y  right_eye_inner_corner_x  \\\n",
       "0                72.722595                38.955574                 35.330315   \n",
       "1                73.703415                37.061111                 34.031834   \n",
       "2                71.651390                36.675415                 37.238979   \n",
       "3                72.336761                39.879959                 36.823341   \n",
       "4                74.005867                37.420456                 35.255314   \n",
       "\n",
       "   right_eye_inner_corner_y  ...  nose_tip_y  mouth_left_corner_x  \\\n",
       "0                 37.332085  ...   51.705330            63.839413   \n",
       "1                 38.172390  ...   58.887596            64.522263   \n",
       "2                 38.541473  ...   58.661980            64.019516   \n",
       "3                 40.788147  ...   53.833351            64.510139   \n",
       "4                 38.153286  ...   55.009678            64.790459   \n",
       "\n",
       "   mouth_left_corner_y  mouth_right_corner_x  mouth_right_corner_y  \\\n",
       "0            75.830048             32.456303             75.516968   \n",
       "1            75.164047             33.648190             76.352783   \n",
       "2            74.915665             36.068359             76.154694   \n",
       "3            77.008286             33.622406             78.218735   \n",
       "4            76.018661             34.620953             76.939430   \n",
       "\n",
       "   mouth_center_top_lip_x  mouth_center_top_lip_y  mouth_center_bottom_lip_x  \\\n",
       "0               48.725433               68.975670                  48.480476   \n",
       "1               49.011559               72.511292                  49.578083   \n",
       "2               49.972511               72.178986                  49.530727   \n",
       "3               48.348953               71.794128                  49.084595   \n",
       "4               49.116245               69.026909                  49.165558   \n",
       "\n",
       "   mouth_center_bottom_lip_y  ImageId  \n",
       "0                  84.934456        1  \n",
       "1                  86.290756        2  \n",
       "2                  83.758781        3  \n",
       "3                  81.412338        4  \n",
       "4                  85.991623        5  \n",
       "\n",
       "[5 rows x 31 columns]"
      ]
     },
     "execution_count": 36,
     "metadata": {},
     "output_type": "execute_result"
    }
   ],
   "source": [
    "test_preds.ImageId=test_preds.ImageId.astype('int')\n",
    "test_preds.head()"
   ]
  },
  {
   "cell_type": "code",
   "execution_count": 37,
   "metadata": {},
   "outputs": [],
   "source": [
    "sub = pd.DataFrame(columns=['RowId','Location'])\n",
    "for index,row in id_lookup.iterrows():\n",
    "    fname = row.FeatureName\n",
    "    trow=test_preds.loc[test_preds['ImageId']==row.ImageId]\n",
    "    sub.loc[index]=[row.RowId,trow.iloc[0][fname]]"
   ]
  },
  {
   "cell_type": "code",
   "execution_count": 38,
   "metadata": {},
   "outputs": [
    {
     "data": {
      "text/html": [
       "<div>\n",
       "<style scoped>\n",
       "    .dataframe tbody tr th:only-of-type {\n",
       "        vertical-align: middle;\n",
       "    }\n",
       "\n",
       "    .dataframe tbody tr th {\n",
       "        vertical-align: top;\n",
       "    }\n",
       "\n",
       "    .dataframe thead th {\n",
       "        text-align: right;\n",
       "    }\n",
       "</style>\n",
       "<table border=\"1\" class=\"dataframe\">\n",
       "  <thead>\n",
       "    <tr style=\"text-align: right;\">\n",
       "      <th></th>\n",
       "      <th>RowId</th>\n",
       "      <th>Location</th>\n",
       "    </tr>\n",
       "  </thead>\n",
       "  <tbody>\n",
       "    <tr>\n",
       "      <th>0</th>\n",
       "      <td>1</td>\n",
       "      <td>65.906494</td>\n",
       "    </tr>\n",
       "    <tr>\n",
       "      <th>1</th>\n",
       "      <td>2</td>\n",
       "      <td>38.304909</td>\n",
       "    </tr>\n",
       "    <tr>\n",
       "      <th>2</th>\n",
       "      <td>3</td>\n",
       "      <td>28.888744</td>\n",
       "    </tr>\n",
       "    <tr>\n",
       "      <th>3</th>\n",
       "      <td>4</td>\n",
       "      <td>36.773434</td>\n",
       "    </tr>\n",
       "    <tr>\n",
       "      <th>4</th>\n",
       "      <td>5</td>\n",
       "      <td>59.978333</td>\n",
       "    </tr>\n",
       "  </tbody>\n",
       "</table>\n",
       "</div>"
      ],
      "text/plain": [
       "   RowId   Location\n",
       "0      1  65.906494\n",
       "1      2  38.304909\n",
       "2      3  28.888744\n",
       "3      4  36.773434\n",
       "4      5  59.978333"
      ]
     },
     "execution_count": 38,
     "metadata": {},
     "output_type": "execute_result"
    }
   ],
   "source": [
    "sub.RowId=sub.RowId.astype('int')\n",
    "sub.head()"
   ]
  },
  {
   "cell_type": "code",
   "execution_count": 39,
   "metadata": {},
   "outputs": [],
   "source": [
    "sub.to_csv(\"./data/sub_simple.csv\",index=False)"
   ]
  },
  {
   "cell_type": "code",
   "execution_count": 40,
   "metadata": {},
   "outputs": [
    {
     "name": "stdout",
     "output_type": "stream",
     "text": [
      "100%|█████████████████████████████████████████| 629k/629k [00:03<00:00, 208kB/s]\n",
      "Successfully submitted to Facial Keypoints Detection"
     ]
    }
   ],
   "source": [
    "!kaggle competitions submit -c facial-keypoints-detection -f data/sub_simple.csv -m \"fastai simple\""
   ]
  }
 ],
 "metadata": {
  "kernelspec": {
   "display_name": "Python 3",
   "language": "python",
   "name": "python3"
  },
  "language_info": {
   "codemirror_mode": {
    "name": "ipython",
    "version": 3
   },
   "file_extension": ".py",
   "mimetype": "text/x-python",
   "name": "python",
   "nbconvert_exporter": "python",
   "pygments_lexer": "ipython3",
   "version": "3.7.3"
  },
  "toc": {
   "base_numbering": 1,
   "nav_menu": {},
   "number_sections": true,
   "sideBar": true,
   "skip_h1_title": false,
   "title_cell": "Table of Contents",
   "title_sidebar": "Contents",
   "toc_cell": true,
   "toc_position": {},
   "toc_section_display": true,
   "toc_window_display": false
  },
  "varInspector": {
   "cols": {
    "lenName": 16,
    "lenType": 16,
    "lenVar": 40
   },
   "kernels_config": {
    "python": {
     "delete_cmd_postfix": "",
     "delete_cmd_prefix": "del ",
     "library": "var_list.py",
     "varRefreshCmd": "print(var_dic_list())"
    },
    "r": {
     "delete_cmd_postfix": ") ",
     "delete_cmd_prefix": "rm(",
     "library": "var_list.r",
     "varRefreshCmd": "cat(var_dic_list()) "
    }
   },
   "types_to_exclude": [
    "module",
    "function",
    "builtin_function_or_method",
    "instance",
    "_Feature"
   ],
   "window_display": false
  }
 },
 "nbformat": 4,
 "nbformat_minor": 4
}
